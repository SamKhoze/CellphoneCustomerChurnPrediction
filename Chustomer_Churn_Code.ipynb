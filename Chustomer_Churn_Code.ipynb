{
  "cells": [
    {
      "cell_type": "markdown",
      "id": "8e6e63a8",
      "metadata": {
        "id": "8e6e63a8"
      },
      "source": [
        "# Assessment Background/Scenario"
      ]
    },
    {
      "cell_type": "markdown",
      "source": [
        "You are working as an AI engineer at a reputable organisation. You have a client from the\n",
        "telecommunication sector who is facing a customer churn problem due to fierce competition in\n",
        "the market. Customer churn, also known as ‘customer attrition’, is defined as the rate at which\n",
        "customers stop using an organisation’s services within a certain timeframe. Your client is\n",
        "interested in applying AI techniques to explore and model its customer data. This modelling can\n",
        "help the company to forecast their customers’ behaviour and potentially help reduce the churn\n",
        "rate."
      ],
      "metadata": {
        "id": "ZC2lZwpxBwGu"
      },
      "id": "ZC2lZwpxBwGu"
    },
    {
      "cell_type": "raw",
      "id": "cc1f7805",
      "metadata": {
        "id": "cc1f7805"
      },
      "source": [
        "Import Libraries"
      ]
    },
    {
      "cell_type": "code",
      "execution_count": null,
      "id": "1fd48123",
      "metadata": {
        "id": "1fd48123"
      },
      "outputs": [],
      "source": [
        "#Pandas Library is used for Data Manipulation and Analysis\n",
        "import pandas as pd\n",
        "#Numpy Library Hekps us to create Multidimensional Arrays\n",
        "import numpy as np\n",
        "# Seaborn Library is used for the Data Visualization and to create heat maps\n",
        "import seaborn as sns\n",
        "# Matplotlib library is used for the data visualization\n",
        "import matplotlib.pyplot as plt\n",
        "#folium library is used for the visualization of geospatial data\n",
        "import folium\n",
        "from folium.plugins import HeatMap\n",
        "plt.ticklabel_format(useOffset=False)\n",
        "%matplotlib inline\n",
        "#Import math heps us to use Mathematical Functions\n",
        "import math\n",
        "#To split the dataset into the training and test set we import the Train and Test Split library\n",
        "from sklearn.model_selection import train_test_split\n",
        "# Decision Tree Classifier is the Machine Learning Model \n",
        "from sklearn.tree import DecisionTreeClassifier\n",
        "# Using SVM we are importing the Support Vector Machine Classifier\n",
        "from sklearn import svm\n",
        "from sklearn.svm import SVC\n",
        "# Standard Scaler scales each feature to unit variance\n",
        "from sklearn.preprocessing import StandardScaler\n",
        "# Accuracy Score\n",
        "from sklearn.metrics import accuracy_score\n",
        "# Classification Report shows us the recall score, percision and accuracy score\n",
        "from sklearn.metrics import classification_report\n",
        "import tensorflow as tf\n",
        "from tensorflow import keras\n",
        "from sklearn.metrics import confusion_matrix, f1_score\n",
        "# Grid Search CV and Randomized Search CV are used for Hyper Prarmeter Tuning an Machine Learning Mode\n",
        "from sklearn.model_selection import RandomizedSearchCV, GridSearchCV"
      ]
    },
    {
      "cell_type": "code",
      "execution_count": null,
      "id": "ee193571",
      "metadata": {
        "id": "ee193571"
      },
      "outputs": [],
      "source": [
        "# To create an Percision Curve\n",
        "from sklearn.metrics import precision_recall_curve"
      ]
    },
    {
      "cell_type": "code",
      "execution_count": null,
      "id": "1ede1255",
      "metadata": {
        "id": "1ede1255"
      },
      "outputs": [],
      "source": [
        "# For the Visualization Purpose\n",
        "from matplotlib import pyplot"
      ]
    },
    {
      "cell_type": "code",
      "execution_count": null,
      "id": "e13fe8da",
      "metadata": {
        "id": "e13fe8da"
      },
      "outputs": [],
      "source": [
        "# To print and plot the confusion matric, recall score, percision score and accuracy score separately\n",
        "from sklearn.metrics import confusion_matrix,recall_score,precision_score,accuracy_score,precision_recall_curve,roc_curve,roc_auc_score,make_scorer"
      ]
    },
    {
      "cell_type": "markdown",
      "source": [
        "Load the Dataset"
      ],
      "metadata": {
        "id": "hPoICmJqB2uE"
      },
      "id": "hPoICmJqB2uE"
    },
    {
      "cell_type": "code",
      "execution_count": null,
      "id": "5babcb47",
      "metadata": {
        "id": "5babcb47"
      },
      "outputs": [],
      "source": [
        "# As our dataset is in the form of a csv we are using read_csv\n",
        "data = pd.read_csv(\"cell2celltrain_Small_6k.csv\")"
      ]
    },
    {
      "cell_type": "code",
      "execution_count": null,
      "id": "d32099de",
      "metadata": {
        "id": "d32099de",
        "outputId": "949bbecb-89d7-454b-95e5-fb3156f6aafb"
      },
      "outputs": [
        {
          "data": {
            "text/html": [
              "<div>\n",
              "<style scoped>\n",
              "    .dataframe tbody tr th:only-of-type {\n",
              "        vertical-align: middle;\n",
              "    }\n",
              "\n",
              "    .dataframe tbody tr th {\n",
              "        vertical-align: top;\n",
              "    }\n",
              "\n",
              "    .dataframe thead th {\n",
              "        text-align: right;\n",
              "    }\n",
              "</style>\n",
              "<table border=\"1\" class=\"dataframe\">\n",
              "  <thead>\n",
              "    <tr style=\"text-align: right;\">\n",
              "      <th></th>\n",
              "      <th>MonthlyRevenue</th>\n",
              "      <th>MonthlyMinutes</th>\n",
              "      <th>TotalRecurringCharge</th>\n",
              "      <th>DirectorAssistedCalls</th>\n",
              "      <th>OverageMinutes</th>\n",
              "      <th>RoamingCalls</th>\n",
              "      <th>PercChangeMinutes</th>\n",
              "      <th>PercChangeRevenues</th>\n",
              "      <th>DroppedCalls</th>\n",
              "      <th>BlockedCalls</th>\n",
              "      <th>...</th>\n",
              "      <th>IncomeGroup</th>\n",
              "      <th>OwnsMotorcycle</th>\n",
              "      <th>AdjustmentsToCreditRating</th>\n",
              "      <th>HandsetPrice</th>\n",
              "      <th>MadeCallToRetentionTeam</th>\n",
              "      <th>CreditRating</th>\n",
              "      <th>PrizmCode</th>\n",
              "      <th>Occupation</th>\n",
              "      <th>MaritalStatus</th>\n",
              "      <th>Churn</th>\n",
              "    </tr>\n",
              "  </thead>\n",
              "  <tbody>\n",
              "    <tr>\n",
              "      <th>0</th>\n",
              "      <td>30.88</td>\n",
              "      <td>436</td>\n",
              "      <td>30</td>\n",
              "      <td>0.25</td>\n",
              "      <td>1</td>\n",
              "      <td>0</td>\n",
              "      <td>-112</td>\n",
              "      <td>0.1</td>\n",
              "      <td>11.0</td>\n",
              "      <td>0.3</td>\n",
              "      <td>...</td>\n",
              "      <td>8</td>\n",
              "      <td>No</td>\n",
              "      <td>0</td>\n",
              "      <td>150</td>\n",
              "      <td>No</td>\n",
              "      <td>2-High</td>\n",
              "      <td>Other</td>\n",
              "      <td>Other</td>\n",
              "      <td>Yes</td>\n",
              "      <td>Yes</td>\n",
              "    </tr>\n",
              "    <tr>\n",
              "      <th>1</th>\n",
              "      <td>44.83</td>\n",
              "      <td>172</td>\n",
              "      <td>45</td>\n",
              "      <td>0</td>\n",
              "      <td>0</td>\n",
              "      <td>0</td>\n",
              "      <td>-12</td>\n",
              "      <td>-15.5</td>\n",
              "      <td>0.3</td>\n",
              "      <td>0.3</td>\n",
              "      <td>...</td>\n",
              "      <td>7</td>\n",
              "      <td>No</td>\n",
              "      <td>0</td>\n",
              "      <td>80</td>\n",
              "      <td>No</td>\n",
              "      <td>2-High</td>\n",
              "      <td>Suburban</td>\n",
              "      <td>Other</td>\n",
              "      <td>No</td>\n",
              "      <td>No</td>\n",
              "    </tr>\n",
              "    <tr>\n",
              "      <th>2</th>\n",
              "      <td>42.63</td>\n",
              "      <td>838</td>\n",
              "      <td>50</td>\n",
              "      <td>0.74</td>\n",
              "      <td>5</td>\n",
              "      <td>0</td>\n",
              "      <td>28</td>\n",
              "      <td>-2.6</td>\n",
              "      <td>4.7</td>\n",
              "      <td>6.3</td>\n",
              "      <td>...</td>\n",
              "      <td>0</td>\n",
              "      <td>No</td>\n",
              "      <td>0</td>\n",
              "      <td>130</td>\n",
              "      <td>No</td>\n",
              "      <td>5-Low</td>\n",
              "      <td>Suburban</td>\n",
              "      <td>Other</td>\n",
              "      <td>?</td>\n",
              "      <td>No</td>\n",
              "    </tr>\n",
              "    <tr>\n",
              "      <th>3</th>\n",
              "      <td>33.49</td>\n",
              "      <td>358</td>\n",
              "      <td>50</td>\n",
              "      <td>0</td>\n",
              "      <td>0</td>\n",
              "      <td>0</td>\n",
              "      <td>-16</td>\n",
              "      <td>0</td>\n",
              "      <td>1.0</td>\n",
              "      <td>4.0</td>\n",
              "      <td>...</td>\n",
              "      <td>8</td>\n",
              "      <td>No</td>\n",
              "      <td>0</td>\n",
              "      <td>150</td>\n",
              "      <td>No</td>\n",
              "      <td>2-High</td>\n",
              "      <td>Town</td>\n",
              "      <td>Other</td>\n",
              "      <td>Yes</td>\n",
              "      <td>No</td>\n",
              "    </tr>\n",
              "    <tr>\n",
              "      <th>4</th>\n",
              "      <td>60.94</td>\n",
              "      <td>1276</td>\n",
              "      <td>60</td>\n",
              "      <td>4.7</td>\n",
              "      <td>0</td>\n",
              "      <td>0</td>\n",
              "      <td>-188</td>\n",
              "      <td>0.2</td>\n",
              "      <td>5.7</td>\n",
              "      <td>19.7</td>\n",
              "      <td>...</td>\n",
              "      <td>0</td>\n",
              "      <td>No</td>\n",
              "      <td>0</td>\n",
              "      <td>30</td>\n",
              "      <td>No</td>\n",
              "      <td>5-Low</td>\n",
              "      <td>Other</td>\n",
              "      <td>Other</td>\n",
              "      <td>?</td>\n",
              "      <td>No</td>\n",
              "    </tr>\n",
              "  </tbody>\n",
              "</table>\n",
              "<p>5 rows × 57 columns</p>\n",
              "</div>"
            ],
            "text/plain": [
              "  MonthlyRevenue MonthlyMinutes TotalRecurringCharge DirectorAssistedCalls  \\\n",
              "0          30.88            436                   30                  0.25   \n",
              "1          44.83            172                   45                     0   \n",
              "2          42.63            838                   50                  0.74   \n",
              "3          33.49            358                   50                     0   \n",
              "4          60.94           1276                   60                   4.7   \n",
              "\n",
              "  OverageMinutes RoamingCalls PercChangeMinutes PercChangeRevenues  \\\n",
              "0              1            0              -112                0.1   \n",
              "1              0            0               -12              -15.5   \n",
              "2              5            0                28               -2.6   \n",
              "3              0            0               -16                  0   \n",
              "4              0            0              -188                0.2   \n",
              "\n",
              "   DroppedCalls  BlockedCalls  ...  IncomeGroup  OwnsMotorcycle  \\\n",
              "0          11.0           0.3  ...            8              No   \n",
              "1           0.3           0.3  ...            7              No   \n",
              "2           4.7           6.3  ...            0              No   \n",
              "3           1.0           4.0  ...            8              No   \n",
              "4           5.7          19.7  ...            0              No   \n",
              "\n",
              "   AdjustmentsToCreditRating  HandsetPrice  MadeCallToRetentionTeam  \\\n",
              "0                          0           150                       No   \n",
              "1                          0            80                       No   \n",
              "2                          0           130                       No   \n",
              "3                          0           150                       No   \n",
              "4                          0            30                       No   \n",
              "\n",
              "   CreditRating  PrizmCode  Occupation  MaritalStatus  Churn  \n",
              "0        2-High      Other       Other            Yes    Yes  \n",
              "1        2-High   Suburban       Other             No     No  \n",
              "2         5-Low   Suburban       Other              ?     No  \n",
              "3        2-High       Town       Other            Yes     No  \n",
              "4         5-Low      Other       Other              ?     No  \n",
              "\n",
              "[5 rows x 57 columns]"
            ]
          },
          "execution_count": 153,
          "metadata": {},
          "output_type": "execute_result"
        }
      ],
      "source": [
        "#Using data.head(5), we are printing the first five rows\n",
        "data.head(5)"
      ]
    },
    {
      "cell_type": "code",
      "execution_count": null,
      "id": "330dce07",
      "metadata": {
        "id": "330dce07",
        "outputId": "8eb4be80-440d-4f80-85cc-6a3e207892d3"
      },
      "outputs": [
        {
          "data": {
            "text/plain": [
              "(6380, 57)"
            ]
          },
          "execution_count": 154,
          "metadata": {},
          "output_type": "execute_result"
        }
      ],
      "source": [
        "# Using data.shape we are printing the number of attributes and number of features we have in our data set\n",
        "data.shape"
      ]
    },
    {
      "cell_type": "code",
      "execution_count": null,
      "id": "9890b395",
      "metadata": {
        "id": "9890b395"
      },
      "outputs": [],
      "source": [
        "# Using .copy(), we are copying all the data into an another variable\n",
        "df= data.copy()"
      ]
    },
    {
      "cell_type": "code",
      "execution_count": null,
      "id": "6e0e3d85",
      "metadata": {
        "id": "6e0e3d85"
      },
      "outputs": [],
      "source": [
        "dfv = data.copy()"
      ]
    },
    {
      "cell_type": "markdown",
      "id": "43f31bf7",
      "metadata": {
        "id": "43f31bf7"
      },
      "source": [
        "# Data Pre-preocessing "
      ]
    },
    {
      "cell_type": "markdown",
      "source": [
        "Data Preparation"
      ],
      "metadata": {
        "id": "BEGEe1ZzCq3T"
      },
      "id": "BEGEe1ZzCq3T"
    },
    {
      "cell_type": "code",
      "execution_count": null,
      "id": "60e5c2f1",
      "metadata": {
        "id": "60e5c2f1",
        "outputId": "d9cee836-03fd-4f9b-91b1-36b8802e77e5"
      },
      "outputs": [
        {
          "name": "stdout",
          "output_type": "stream",
          "text": [
            "<class 'pandas.core.frame.DataFrame'>\n",
            "RangeIndex: 6380 entries, 0 to 6379\n",
            "Data columns (total 57 columns):\n",
            " #   Column                     Non-Null Count  Dtype  \n",
            "---  ------                     --------------  -----  \n",
            " 0   MonthlyRevenue             6380 non-null   object \n",
            " 1   MonthlyMinutes             6380 non-null   object \n",
            " 2   TotalRecurringCharge       6380 non-null   object \n",
            " 3   DirectorAssistedCalls      6380 non-null   object \n",
            " 4   OverageMinutes             6380 non-null   object \n",
            " 5   RoamingCalls               6380 non-null   object \n",
            " 6   PercChangeMinutes          6380 non-null   object \n",
            " 7   PercChangeRevenues         6380 non-null   object \n",
            " 8   DroppedCalls               6380 non-null   float64\n",
            " 9   BlockedCalls               6380 non-null   float64\n",
            " 10  UnsweredCalls              6380 non-null   float64\n",
            " 11  CustomerCareCalls          6380 non-null   float64\n",
            " 12  ThreewayCalls              6380 non-null   float64\n",
            " 13  ReceivedCalls              6380 non-null   float64\n",
            " 14  OutboundCalls              6380 non-null   float64\n",
            " 15  InboundCalls               6380 non-null   float64\n",
            " 16  PeakCallsInOut             6380 non-null   float64\n",
            " 17  OffPeakCallsInOut          6380 non-null   float64\n",
            " 18  DroppedBlockedCalls        6380 non-null   float64\n",
            " 19  CallForwardingCalls        6380 non-null   float64\n",
            " 20  CallWaitingCalls           6380 non-null   float64\n",
            " 21  MonthsInService            6380 non-null   int64  \n",
            " 22  UniqueSubs                 6380 non-null   int64  \n",
            " 23  ActiveSubs                 6380 non-null   int64  \n",
            " 24  ServiceArea                6380 non-null   object \n",
            " 25  Handsets                   6380 non-null   int64  \n",
            " 26  HandsetModels              6380 non-null   int64  \n",
            " 27  CurrentEquipmentDays       6380 non-null   int64  \n",
            " 28  AgeHH1                     6380 non-null   object \n",
            " 29  AgeHH2                     6380 non-null   object \n",
            " 30  ChildrenInHH               6380 non-null   object \n",
            " 31  HandsetRefurbished         6380 non-null   object \n",
            " 32  HandsetWebCapable          6380 non-null   object \n",
            " 33  TruckOwner                 6380 non-null   object \n",
            " 34  RVOwner                    6380 non-null   object \n",
            " 35  Homeownership              6380 non-null   object \n",
            " 36  BuysViaMailOrder           6380 non-null   object \n",
            " 37  RespondsToMailOffers       6380 non-null   object \n",
            " 38  OptOutMailings             6380 non-null   object \n",
            " 39  NonUSTravel                6380 non-null   object \n",
            " 40  OwnsComputer               6380 non-null   object \n",
            " 41  HasCreditCard              6380 non-null   object \n",
            " 42  RetentionCalls             6380 non-null   int64  \n",
            " 43  RetentionOffersAccepted    6380 non-null   int64  \n",
            " 44  NewCellphoneUser           6380 non-null   object \n",
            " 45  NotNewCellphoneUser        6380 non-null   object \n",
            " 46  ReferralsMadeBySubscriber  6380 non-null   int64  \n",
            " 47  IncomeGroup                6380 non-null   int64  \n",
            " 48  OwnsMotorcycle             6380 non-null   object \n",
            " 49  AdjustmentsToCreditRating  6380 non-null   int64  \n",
            " 50  HandsetPrice               6380 non-null   object \n",
            " 51  MadeCallToRetentionTeam    6380 non-null   object \n",
            " 52  CreditRating               6380 non-null   object \n",
            " 53  PrizmCode                  6380 non-null   object \n",
            " 54  Occupation                 6380 non-null   object \n",
            " 55  MaritalStatus              6380 non-null   object \n",
            " 56  Churn                      6380 non-null   object \n",
            "dtypes: float64(13), int64(11), object(33)\n",
            "memory usage: 2.8+ MB\n"
          ]
        }
      ],
      "source": [
        "# The.info(), shows the data type of each variable, number of non null values along with this it prints the name of each collumn\n",
        "data.info()"
      ]
    },
    {
      "cell_type": "code",
      "execution_count": null,
      "id": "9e62b0d0",
      "metadata": {
        "id": "9e62b0d0",
        "outputId": "d36a522e-6cfb-40b4-a686-ca505d3e923d"
      },
      "outputs": [
        {
          "data": {
            "text/plain": [
              "Other       3083\n",
              "Suburban    2056\n",
              "Town         959\n",
              "Rural        282\n",
              "Name: PrizmCode, dtype: int64"
            ]
          },
          "execution_count": 158,
          "metadata": {},
          "output_type": "execute_result"
        }
      ],
      "source": [
        "# Using .value_counts(), we can do the count of each unique attribute in a collumn\n",
        "data[\"PrizmCode\"].value_counts()"
      ]
    },
    {
      "cell_type": "code",
      "execution_count": null,
      "id": "73cc3833",
      "metadata": {
        "id": "73cc3833",
        "outputId": "3fead8d6-476b-487a-e571-a6da5ab9b266"
      },
      "outputs": [
        {
          "data": {
            "text/plain": [
              "Other         4750\n",
              "Professiol    1061\n",
              "Crafts         192\n",
              "Clerical       112\n",
              "Self           108\n",
              "Retired         84\n",
              "Student         47\n",
              "Homemaker       26\n",
              "Name: Occupation, dtype: int64"
            ]
          },
          "execution_count": 159,
          "metadata": {},
          "output_type": "execute_result"
        }
      ],
      "source": [
        "data[\"Occupation\"].value_counts()"
      ]
    },
    {
      "cell_type": "code",
      "execution_count": null,
      "id": "65da1c58",
      "metadata": {
        "id": "65da1c58"
      },
      "outputs": [],
      "source": [
        "# As the Machine Learning Model only accepts Numerical data so we generate dummies for the text collumn\n",
        "# As prizm code collum contains text data so we are generating the dummies for it \n",
        "one_hot_encoding_columns = [\"PrizmCode\"]"
      ]
    },
    {
      "cell_type": "code",
      "execution_count": null,
      "id": "0d8932f4",
      "metadata": {
        "id": "0d8932f4"
      },
      "outputs": [],
      "source": [
        "#Generating Dummies\n",
        "data = pd.get_dummies(data, columns = one_hot_encoding_columns)"
      ]
    },
    {
      "cell_type": "code",
      "execution_count": null,
      "id": "45c4e605",
      "metadata": {
        "id": "45c4e605"
      },
      "outputs": [],
      "source": [
        "# As the Machine Learning Model accepts only numerical data, so those columns which have binary data in those columns \n",
        "#we are replacing Yes with 1 and No with 0\n",
        "data['Churn'] = data['Churn'].map(\n",
        "                   {'Yes':1 ,'No':0})"
      ]
    },
    {
      "cell_type": "code",
      "execution_count": null,
      "id": "9f45269b",
      "metadata": {
        "id": "9f45269b"
      },
      "outputs": [],
      "source": [
        "# As the Machine Learning Model accepts only numerical data, so those columns which have binary data in those columns \n",
        "#we are replacing Yes with 1 and No with 0\n",
        "df['Churn'] = df['Churn'].map(\n",
        "                   {'Yes':1 ,'No':0})"
      ]
    },
    {
      "cell_type": "code",
      "execution_count": null,
      "id": "6424edd4",
      "metadata": {
        "id": "6424edd4"
      },
      "outputs": [],
      "source": [
        "data['MaritalStatus'] = data['MaritalStatus'].map(\n",
        "                   {'Yes':1 ,'No':0})"
      ]
    },
    {
      "cell_type": "code",
      "execution_count": null,
      "id": "cd245334",
      "metadata": {
        "id": "cd245334"
      },
      "outputs": [],
      "source": [
        "data['MadeCallToRetentionTeam'] = data['MadeCallToRetentionTeam'].map(\n",
        "                   {'Yes':1 ,'No':0})"
      ]
    },
    {
      "cell_type": "code",
      "execution_count": null,
      "id": "ee30592d",
      "metadata": {
        "id": "ee30592d"
      },
      "outputs": [],
      "source": [
        "data['OwnsMotorcycle'] = data['OwnsMotorcycle'].map(\n",
        "                   {'Yes':1 ,'No':0})"
      ]
    },
    {
      "cell_type": "code",
      "execution_count": null,
      "id": "86758b39",
      "metadata": {
        "id": "86758b39"
      },
      "outputs": [],
      "source": [
        "data['ChildrenInHH'] = data['ChildrenInHH'].map(\n",
        "                   {'Yes':1 ,'No':0})"
      ]
    },
    {
      "cell_type": "code",
      "execution_count": null,
      "id": "f5fe12ec",
      "metadata": {
        "id": "f5fe12ec"
      },
      "outputs": [],
      "source": [
        "data['HandsetRefurbished'] = data['HandsetRefurbished'].map(\n",
        "                   {'Yes':1 ,'No':0})"
      ]
    },
    {
      "cell_type": "code",
      "execution_count": null,
      "id": "1b3aec92",
      "metadata": {
        "id": "1b3aec92"
      },
      "outputs": [],
      "source": [
        "data['HandsetWebCapable'] = data['HandsetWebCapable'].map(\n",
        "                   {'Yes':1 ,'No':0})"
      ]
    },
    {
      "cell_type": "code",
      "execution_count": null,
      "id": "19d83771",
      "metadata": {
        "id": "19d83771"
      },
      "outputs": [],
      "source": [
        "data['TruckOwner'] = data['TruckOwner'].map(\n",
        "                   {'Yes':1 ,'No':0})"
      ]
    },
    {
      "cell_type": "code",
      "execution_count": null,
      "id": "3ec8c3fc",
      "metadata": {
        "id": "3ec8c3fc"
      },
      "outputs": [],
      "source": [
        "data['RVOwner'] = data['RVOwner'].map(\n",
        "                   {'Yes':1 ,'No':0})"
      ]
    },
    {
      "cell_type": "code",
      "execution_count": null,
      "id": "97251133",
      "metadata": {
        "id": "97251133"
      },
      "outputs": [],
      "source": [
        "data['BuysViaMailOrder'] = data['BuysViaMailOrder'].map(\n",
        "                   {'Yes':1 ,'No':0})"
      ]
    },
    {
      "cell_type": "code",
      "execution_count": null,
      "id": "349b148f",
      "metadata": {
        "id": "349b148f"
      },
      "outputs": [],
      "source": [
        "data['RespondsToMailOffers'] = data['RespondsToMailOffers'].map(\n",
        "                   {'Yes':1 ,'No':0})"
      ]
    },
    {
      "cell_type": "code",
      "execution_count": null,
      "id": "f7a0bcc7",
      "metadata": {
        "id": "f7a0bcc7"
      },
      "outputs": [],
      "source": [
        "data['OptOutMailings'] = data['OptOutMailings'].map(\n",
        "                   {'Yes':1 ,'No':0})"
      ]
    },
    {
      "cell_type": "code",
      "execution_count": null,
      "id": "e1487283",
      "metadata": {
        "id": "e1487283"
      },
      "outputs": [],
      "source": [
        "data['NonUSTravel'] = data['NonUSTravel'].map(\n",
        "                   {'Yes':1 ,'No':0})"
      ]
    },
    {
      "cell_type": "code",
      "execution_count": null,
      "id": "9d6b525e",
      "metadata": {
        "id": "9d6b525e"
      },
      "outputs": [],
      "source": [
        "data['OwnsComputer'] = data['OwnsComputer'].map(\n",
        "                   {'Yes':1 ,'No':0})"
      ]
    },
    {
      "cell_type": "code",
      "execution_count": null,
      "id": "c09b1fc3",
      "metadata": {
        "id": "c09b1fc3"
      },
      "outputs": [],
      "source": [
        "data['HasCreditCard'] = data['HasCreditCard'].map(\n",
        "                   {'Yes':1 ,'No':0})"
      ]
    },
    {
      "cell_type": "code",
      "execution_count": null,
      "id": "058af2dc",
      "metadata": {
        "id": "058af2dc"
      },
      "outputs": [],
      "source": [
        "data['NewCellphoneUser'] = data['NewCellphoneUser'].map(\n",
        "                   {'Yes':1 ,'No':0})\n",
        "\n"
      ]
    },
    {
      "cell_type": "code",
      "execution_count": null,
      "id": "74218027",
      "metadata": {
        "id": "74218027"
      },
      "outputs": [],
      "source": [
        "data['NotNewCellphoneUser'] = data['NotNewCellphoneUser'].map(\n",
        "                   {'Yes':1 ,'No':0})\n"
      ]
    },
    {
      "cell_type": "code",
      "execution_count": null,
      "id": "987e8c18",
      "metadata": {
        "id": "987e8c18"
      },
      "outputs": [],
      "source": [
        "data['Homeownership'] = data['Homeownership'].map(\n",
        "                   {'Known':1})\n",
        "\n"
      ]
    },
    {
      "cell_type": "code",
      "execution_count": null,
      "id": "624dcf99",
      "metadata": {
        "id": "624dcf99",
        "outputId": "6ebfd9df-b50d-4092-e431-9bdb7c077301"
      },
      "outputs": [
        {
          "data": {
            "text/html": [
              "<div>\n",
              "<style scoped>\n",
              "    .dataframe tbody tr th:only-of-type {\n",
              "        vertical-align: middle;\n",
              "    }\n",
              "\n",
              "    .dataframe tbody tr th {\n",
              "        vertical-align: top;\n",
              "    }\n",
              "\n",
              "    .dataframe thead th {\n",
              "        text-align: right;\n",
              "    }\n",
              "</style>\n",
              "<table border=\"1\" class=\"dataframe\">\n",
              "  <thead>\n",
              "    <tr style=\"text-align: right;\">\n",
              "      <th></th>\n",
              "      <th>MonthlyRevenue</th>\n",
              "      <th>MonthlyMinutes</th>\n",
              "      <th>TotalRecurringCharge</th>\n",
              "      <th>DirectorAssistedCalls</th>\n",
              "      <th>OverageMinutes</th>\n",
              "      <th>RoamingCalls</th>\n",
              "      <th>PercChangeMinutes</th>\n",
              "      <th>PercChangeRevenues</th>\n",
              "      <th>DroppedCalls</th>\n",
              "      <th>BlockedCalls</th>\n",
              "      <th>...</th>\n",
              "      <th>HandsetPrice</th>\n",
              "      <th>MadeCallToRetentionTeam</th>\n",
              "      <th>CreditRating</th>\n",
              "      <th>Occupation</th>\n",
              "      <th>MaritalStatus</th>\n",
              "      <th>Churn</th>\n",
              "      <th>PrizmCode_Other</th>\n",
              "      <th>PrizmCode_Rural</th>\n",
              "      <th>PrizmCode_Suburban</th>\n",
              "      <th>PrizmCode_Town</th>\n",
              "    </tr>\n",
              "  </thead>\n",
              "  <tbody>\n",
              "    <tr>\n",
              "      <th>0</th>\n",
              "      <td>30.88</td>\n",
              "      <td>436</td>\n",
              "      <td>30</td>\n",
              "      <td>0.25</td>\n",
              "      <td>1</td>\n",
              "      <td>0</td>\n",
              "      <td>-112</td>\n",
              "      <td>0.1</td>\n",
              "      <td>11.0</td>\n",
              "      <td>0.3</td>\n",
              "      <td>...</td>\n",
              "      <td>150</td>\n",
              "      <td>0</td>\n",
              "      <td>2-High</td>\n",
              "      <td>Other</td>\n",
              "      <td>1.0</td>\n",
              "      <td>1</td>\n",
              "      <td>1</td>\n",
              "      <td>0</td>\n",
              "      <td>0</td>\n",
              "      <td>0</td>\n",
              "    </tr>\n",
              "    <tr>\n",
              "      <th>1</th>\n",
              "      <td>44.83</td>\n",
              "      <td>172</td>\n",
              "      <td>45</td>\n",
              "      <td>0</td>\n",
              "      <td>0</td>\n",
              "      <td>0</td>\n",
              "      <td>-12</td>\n",
              "      <td>-15.5</td>\n",
              "      <td>0.3</td>\n",
              "      <td>0.3</td>\n",
              "      <td>...</td>\n",
              "      <td>80</td>\n",
              "      <td>0</td>\n",
              "      <td>2-High</td>\n",
              "      <td>Other</td>\n",
              "      <td>0.0</td>\n",
              "      <td>0</td>\n",
              "      <td>0</td>\n",
              "      <td>0</td>\n",
              "      <td>1</td>\n",
              "      <td>0</td>\n",
              "    </tr>\n",
              "    <tr>\n",
              "      <th>2</th>\n",
              "      <td>42.63</td>\n",
              "      <td>838</td>\n",
              "      <td>50</td>\n",
              "      <td>0.74</td>\n",
              "      <td>5</td>\n",
              "      <td>0</td>\n",
              "      <td>28</td>\n",
              "      <td>-2.6</td>\n",
              "      <td>4.7</td>\n",
              "      <td>6.3</td>\n",
              "      <td>...</td>\n",
              "      <td>130</td>\n",
              "      <td>0</td>\n",
              "      <td>5-Low</td>\n",
              "      <td>Other</td>\n",
              "      <td>NaN</td>\n",
              "      <td>0</td>\n",
              "      <td>0</td>\n",
              "      <td>0</td>\n",
              "      <td>1</td>\n",
              "      <td>0</td>\n",
              "    </tr>\n",
              "    <tr>\n",
              "      <th>3</th>\n",
              "      <td>33.49</td>\n",
              "      <td>358</td>\n",
              "      <td>50</td>\n",
              "      <td>0</td>\n",
              "      <td>0</td>\n",
              "      <td>0</td>\n",
              "      <td>-16</td>\n",
              "      <td>0</td>\n",
              "      <td>1.0</td>\n",
              "      <td>4.0</td>\n",
              "      <td>...</td>\n",
              "      <td>150</td>\n",
              "      <td>0</td>\n",
              "      <td>2-High</td>\n",
              "      <td>Other</td>\n",
              "      <td>1.0</td>\n",
              "      <td>0</td>\n",
              "      <td>0</td>\n",
              "      <td>0</td>\n",
              "      <td>0</td>\n",
              "      <td>1</td>\n",
              "    </tr>\n",
              "    <tr>\n",
              "      <th>4</th>\n",
              "      <td>60.94</td>\n",
              "      <td>1276</td>\n",
              "      <td>60</td>\n",
              "      <td>4.7</td>\n",
              "      <td>0</td>\n",
              "      <td>0</td>\n",
              "      <td>-188</td>\n",
              "      <td>0.2</td>\n",
              "      <td>5.7</td>\n",
              "      <td>19.7</td>\n",
              "      <td>...</td>\n",
              "      <td>30</td>\n",
              "      <td>0</td>\n",
              "      <td>5-Low</td>\n",
              "      <td>Other</td>\n",
              "      <td>NaN</td>\n",
              "      <td>0</td>\n",
              "      <td>1</td>\n",
              "      <td>0</td>\n",
              "      <td>0</td>\n",
              "      <td>0</td>\n",
              "    </tr>\n",
              "  </tbody>\n",
              "</table>\n",
              "<p>5 rows × 60 columns</p>\n",
              "</div>"
            ],
            "text/plain": [
              "  MonthlyRevenue MonthlyMinutes TotalRecurringCharge DirectorAssistedCalls  \\\n",
              "0          30.88            436                   30                  0.25   \n",
              "1          44.83            172                   45                     0   \n",
              "2          42.63            838                   50                  0.74   \n",
              "3          33.49            358                   50                     0   \n",
              "4          60.94           1276                   60                   4.7   \n",
              "\n",
              "  OverageMinutes RoamingCalls PercChangeMinutes PercChangeRevenues  \\\n",
              "0              1            0              -112                0.1   \n",
              "1              0            0               -12              -15.5   \n",
              "2              5            0                28               -2.6   \n",
              "3              0            0               -16                  0   \n",
              "4              0            0              -188                0.2   \n",
              "\n",
              "   DroppedCalls  BlockedCalls  ...  HandsetPrice  MadeCallToRetentionTeam  \\\n",
              "0          11.0           0.3  ...           150                        0   \n",
              "1           0.3           0.3  ...            80                        0   \n",
              "2           4.7           6.3  ...           130                        0   \n",
              "3           1.0           4.0  ...           150                        0   \n",
              "4           5.7          19.7  ...            30                        0   \n",
              "\n",
              "   CreditRating  Occupation  MaritalStatus  Churn  PrizmCode_Other  \\\n",
              "0        2-High       Other            1.0      1                1   \n",
              "1        2-High       Other            0.0      0                0   \n",
              "2         5-Low       Other            NaN      0                0   \n",
              "3        2-High       Other            1.0      0                0   \n",
              "4         5-Low       Other            NaN      0                1   \n",
              "\n",
              "   PrizmCode_Rural  PrizmCode_Suburban  PrizmCode_Town  \n",
              "0                0                   0               0  \n",
              "1                0                   1               0  \n",
              "2                0                   1               0  \n",
              "3                0                   0               1  \n",
              "4                0                   0               0  \n",
              "\n",
              "[5 rows x 60 columns]"
            ]
          },
          "execution_count": 182,
          "metadata": {},
          "output_type": "execute_result"
        }
      ],
      "source": [
        "# Now after generating dummies and performing the mapping now we are printing the first 5 rows  to see how our data looks now\n",
        "data.head(5)"
      ]
    },
    {
      "cell_type": "code",
      "execution_count": null,
      "id": "fd94396e",
      "metadata": {
        "id": "fd94396e",
        "outputId": "9dabebb5-a22c-4fe8-b447-9bfd4e01f830"
      },
      "outputs": [
        {
          "data": {
            "text/plain": [
              "MonthlyRevenue                  0\n",
              "MonthlyMinutes                  0\n",
              "TotalRecurringCharge            0\n",
              "DirectorAssistedCalls           0\n",
              "OverageMinutes                  0\n",
              "RoamingCalls                    0\n",
              "PercChangeMinutes               0\n",
              "PercChangeRevenues              0\n",
              "DroppedCalls                    0\n",
              "BlockedCalls                    0\n",
              "UnsweredCalls                   0\n",
              "CustomerCareCalls               0\n",
              "ThreewayCalls                   0\n",
              "ReceivedCalls                   0\n",
              "OutboundCalls                   0\n",
              "InboundCalls                    0\n",
              "PeakCallsInOut                  0\n",
              "OffPeakCallsInOut               0\n",
              "DroppedBlockedCalls             0\n",
              "CallForwardingCalls             0\n",
              "CallWaitingCalls                0\n",
              "MonthsInService                 0\n",
              "UniqueSubs                      0\n",
              "ActiveSubs                      0\n",
              "ServiceArea                     0\n",
              "Handsets                        0\n",
              "HandsetModels                   0\n",
              "CurrentEquipmentDays            0\n",
              "AgeHH1                          0\n",
              "AgeHH2                          0\n",
              "ChildrenInHH                    0\n",
              "HandsetRefurbished              0\n",
              "HandsetWebCapable               0\n",
              "TruckOwner                      0\n",
              "RVOwner                         0\n",
              "Homeownership                2121\n",
              "BuysViaMailOrder                0\n",
              "RespondsToMailOffers            0\n",
              "OptOutMailings                  0\n",
              "NonUSTravel                     0\n",
              "OwnsComputer                    0\n",
              "HasCreditCard                   0\n",
              "RetentionCalls                  0\n",
              "RetentionOffersAccepted         0\n",
              "NewCellphoneUser                0\n",
              "NotNewCellphoneUser             0\n",
              "ReferralsMadeBySubscriber       0\n",
              "IncomeGroup                     0\n",
              "OwnsMotorcycle                  0\n",
              "AdjustmentsToCreditRating       0\n",
              "HandsetPrice                    0\n",
              "MadeCallToRetentionTeam         0\n",
              "CreditRating                    0\n",
              "Occupation                      0\n",
              "MaritalStatus                2437\n",
              "Churn                           0\n",
              "PrizmCode_Other                 0\n",
              "PrizmCode_Rural                 0\n",
              "PrizmCode_Suburban              0\n",
              "PrizmCode_Town                  0\n",
              "dtype: int64"
            ]
          },
          "execution_count": 183,
          "metadata": {},
          "output_type": "execute_result"
        }
      ],
      "source": [
        "# Printing the Number of missing values in each collumn\n",
        "data.isnull().sum()"
      ]
    },
    {
      "cell_type": "markdown",
      "source": [
        "Statistical Summary"
      ],
      "metadata": {
        "id": "XDepqtwNCx0W"
      },
      "id": "XDepqtwNCx0W"
    },
    {
      "cell_type": "code",
      "execution_count": null,
      "id": "42c78e41",
      "metadata": {
        "id": "42c78e41",
        "outputId": "7a27cad6-da84-4a8e-ab8f-8a08faf93ee1"
      },
      "outputs": [
        {
          "data": {
            "text/html": [
              "<div>\n",
              "<style scoped>\n",
              "    .dataframe tbody tr th:only-of-type {\n",
              "        vertical-align: middle;\n",
              "    }\n",
              "\n",
              "    .dataframe tbody tr th {\n",
              "        vertical-align: top;\n",
              "    }\n",
              "\n",
              "    .dataframe thead th {\n",
              "        text-align: right;\n",
              "    }\n",
              "</style>\n",
              "<table border=\"1\" class=\"dataframe\">\n",
              "  <thead>\n",
              "    <tr style=\"text-align: right;\">\n",
              "      <th></th>\n",
              "      <th>DroppedCalls</th>\n",
              "      <th>BlockedCalls</th>\n",
              "      <th>UnsweredCalls</th>\n",
              "      <th>CustomerCareCalls</th>\n",
              "      <th>ThreewayCalls</th>\n",
              "      <th>ReceivedCalls</th>\n",
              "      <th>OutboundCalls</th>\n",
              "      <th>InboundCalls</th>\n",
              "      <th>PeakCallsInOut</th>\n",
              "      <th>OffPeakCallsInOut</th>\n",
              "      <th>...</th>\n",
              "      <th>IncomeGroup</th>\n",
              "      <th>OwnsMotorcycle</th>\n",
              "      <th>AdjustmentsToCreditRating</th>\n",
              "      <th>MadeCallToRetentionTeam</th>\n",
              "      <th>MaritalStatus</th>\n",
              "      <th>Churn</th>\n",
              "      <th>PrizmCode_Other</th>\n",
              "      <th>PrizmCode_Rural</th>\n",
              "      <th>PrizmCode_Suburban</th>\n",
              "      <th>PrizmCode_Town</th>\n",
              "    </tr>\n",
              "  </thead>\n",
              "  <tbody>\n",
              "    <tr>\n",
              "      <th>count</th>\n",
              "      <td>6380.000000</td>\n",
              "      <td>6380.000000</td>\n",
              "      <td>6380.000000</td>\n",
              "      <td>6380.000000</td>\n",
              "      <td>6380.000000</td>\n",
              "      <td>6380.000000</td>\n",
              "      <td>6380.000000</td>\n",
              "      <td>6380.000000</td>\n",
              "      <td>6380.000000</td>\n",
              "      <td>6380.000000</td>\n",
              "      <td>...</td>\n",
              "      <td>6380.000000</td>\n",
              "      <td>6380.000000</td>\n",
              "      <td>6380.000000</td>\n",
              "      <td>6380.000000</td>\n",
              "      <td>3943.000000</td>\n",
              "      <td>6380.000000</td>\n",
              "      <td>6380.000000</td>\n",
              "      <td>6380.000000</td>\n",
              "      <td>6380.000000</td>\n",
              "      <td>6380.000000</td>\n",
              "    </tr>\n",
              "    <tr>\n",
              "      <th>mean</th>\n",
              "      <td>6.176693</td>\n",
              "      <td>4.068072</td>\n",
              "      <td>28.705878</td>\n",
              "      <td>1.806583</td>\n",
              "      <td>0.305000</td>\n",
              "      <td>115.784545</td>\n",
              "      <td>25.636787</td>\n",
              "      <td>8.204734</td>\n",
              "      <td>91.013276</td>\n",
              "      <td>68.777335</td>\n",
              "      <td>...</td>\n",
              "      <td>4.319592</td>\n",
              "      <td>0.013793</td>\n",
              "      <td>0.055956</td>\n",
              "      <td>0.034169</td>\n",
              "      <td>0.600304</td>\n",
              "      <td>0.283856</td>\n",
              "      <td>0.483229</td>\n",
              "      <td>0.044201</td>\n",
              "      <td>0.322257</td>\n",
              "      <td>0.150313</td>\n",
              "    </tr>\n",
              "    <tr>\n",
              "      <th>std</th>\n",
              "      <td>9.329839</td>\n",
              "      <td>9.756478</td>\n",
              "      <td>38.140535</td>\n",
              "      <td>4.445712</td>\n",
              "      <td>1.213215</td>\n",
              "      <td>175.121024</td>\n",
              "      <td>35.402182</td>\n",
              "      <td>16.581104</td>\n",
              "      <td>106.668454</td>\n",
              "      <td>95.513818</td>\n",
              "      <td>...</td>\n",
              "      <td>3.144514</td>\n",
              "      <td>0.116640</td>\n",
              "      <td>0.339910</td>\n",
              "      <td>0.181678</td>\n",
              "      <td>0.489898</td>\n",
              "      <td>0.450903</td>\n",
              "      <td>0.499758</td>\n",
              "      <td>0.205557</td>\n",
              "      <td>0.467377</td>\n",
              "      <td>0.357406</td>\n",
              "    </tr>\n",
              "    <tr>\n",
              "      <th>min</th>\n",
              "      <td>0.000000</td>\n",
              "      <td>0.000000</td>\n",
              "      <td>0.000000</td>\n",
              "      <td>0.000000</td>\n",
              "      <td>0.000000</td>\n",
              "      <td>0.000000</td>\n",
              "      <td>0.000000</td>\n",
              "      <td>0.000000</td>\n",
              "      <td>0.000000</td>\n",
              "      <td>0.000000</td>\n",
              "      <td>...</td>\n",
              "      <td>0.000000</td>\n",
              "      <td>0.000000</td>\n",
              "      <td>0.000000</td>\n",
              "      <td>0.000000</td>\n",
              "      <td>0.000000</td>\n",
              "      <td>0.000000</td>\n",
              "      <td>0.000000</td>\n",
              "      <td>0.000000</td>\n",
              "      <td>0.000000</td>\n",
              "      <td>0.000000</td>\n",
              "    </tr>\n",
              "    <tr>\n",
              "      <th>25%</th>\n",
              "      <td>0.700000</td>\n",
              "      <td>0.000000</td>\n",
              "      <td>5.300000</td>\n",
              "      <td>0.000000</td>\n",
              "      <td>0.000000</td>\n",
              "      <td>8.500000</td>\n",
              "      <td>3.300000</td>\n",
              "      <td>0.000000</td>\n",
              "      <td>22.700000</td>\n",
              "      <td>11.300000</td>\n",
              "      <td>...</td>\n",
              "      <td>0.000000</td>\n",
              "      <td>0.000000</td>\n",
              "      <td>0.000000</td>\n",
              "      <td>0.000000</td>\n",
              "      <td>0.000000</td>\n",
              "      <td>0.000000</td>\n",
              "      <td>0.000000</td>\n",
              "      <td>0.000000</td>\n",
              "      <td>0.000000</td>\n",
              "      <td>0.000000</td>\n",
              "    </tr>\n",
              "    <tr>\n",
              "      <th>50%</th>\n",
              "      <td>3.000000</td>\n",
              "      <td>1.000000</td>\n",
              "      <td>16.300000</td>\n",
              "      <td>0.000000</td>\n",
              "      <td>0.000000</td>\n",
              "      <td>52.300000</td>\n",
              "      <td>13.700000</td>\n",
              "      <td>2.300000</td>\n",
              "      <td>62.300000</td>\n",
              "      <td>36.300000</td>\n",
              "      <td>...</td>\n",
              "      <td>5.000000</td>\n",
              "      <td>0.000000</td>\n",
              "      <td>0.000000</td>\n",
              "      <td>0.000000</td>\n",
              "      <td>1.000000</td>\n",
              "      <td>0.000000</td>\n",
              "      <td>0.000000</td>\n",
              "      <td>0.000000</td>\n",
              "      <td>0.000000</td>\n",
              "      <td>0.000000</td>\n",
              "    </tr>\n",
              "    <tr>\n",
              "      <th>75%</th>\n",
              "      <td>7.700000</td>\n",
              "      <td>3.700000</td>\n",
              "      <td>37.300000</td>\n",
              "      <td>1.700000</td>\n",
              "      <td>0.300000</td>\n",
              "      <td>150.575000</td>\n",
              "      <td>34.300000</td>\n",
              "      <td>9.300000</td>\n",
              "      <td>121.700000</td>\n",
              "      <td>89.000000</td>\n",
              "      <td>...</td>\n",
              "      <td>7.000000</td>\n",
              "      <td>0.000000</td>\n",
              "      <td>0.000000</td>\n",
              "      <td>0.000000</td>\n",
              "      <td>1.000000</td>\n",
              "      <td>1.000000</td>\n",
              "      <td>1.000000</td>\n",
              "      <td>0.000000</td>\n",
              "      <td>1.000000</td>\n",
              "      <td>0.000000</td>\n",
              "    </tr>\n",
              "    <tr>\n",
              "      <th>max</th>\n",
              "      <td>166.300000</td>\n",
              "      <td>144.700000</td>\n",
              "      <td>663.300000</td>\n",
              "      <td>85.700000</td>\n",
              "      <td>43.000000</td>\n",
              "      <td>2692.400000</td>\n",
              "      <td>540.700000</td>\n",
              "      <td>344.700000</td>\n",
              "      <td>1591.000000</td>\n",
              "      <td>1399.300000</td>\n",
              "      <td>...</td>\n",
              "      <td>9.000000</td>\n",
              "      <td>1.000000</td>\n",
              "      <td>9.000000</td>\n",
              "      <td>1.000000</td>\n",
              "      <td>1.000000</td>\n",
              "      <td>1.000000</td>\n",
              "      <td>1.000000</td>\n",
              "      <td>1.000000</td>\n",
              "      <td>1.000000</td>\n",
              "      <td>1.000000</td>\n",
              "    </tr>\n",
              "  </tbody>\n",
              "</table>\n",
              "<p>8 rows × 46 columns</p>\n",
              "</div>"
            ],
            "text/plain": [
              "       DroppedCalls  BlockedCalls  UnsweredCalls  CustomerCareCalls  \\\n",
              "count   6380.000000   6380.000000    6380.000000        6380.000000   \n",
              "mean       6.176693      4.068072      28.705878           1.806583   \n",
              "std        9.329839      9.756478      38.140535           4.445712   \n",
              "min        0.000000      0.000000       0.000000           0.000000   \n",
              "25%        0.700000      0.000000       5.300000           0.000000   \n",
              "50%        3.000000      1.000000      16.300000           0.000000   \n",
              "75%        7.700000      3.700000      37.300000           1.700000   \n",
              "max      166.300000    144.700000     663.300000          85.700000   \n",
              "\n",
              "       ThreewayCalls  ReceivedCalls  OutboundCalls  InboundCalls  \\\n",
              "count    6380.000000    6380.000000    6380.000000   6380.000000   \n",
              "mean        0.305000     115.784545      25.636787      8.204734   \n",
              "std         1.213215     175.121024      35.402182     16.581104   \n",
              "min         0.000000       0.000000       0.000000      0.000000   \n",
              "25%         0.000000       8.500000       3.300000      0.000000   \n",
              "50%         0.000000      52.300000      13.700000      2.300000   \n",
              "75%         0.300000     150.575000      34.300000      9.300000   \n",
              "max        43.000000    2692.400000     540.700000    344.700000   \n",
              "\n",
              "       PeakCallsInOut  OffPeakCallsInOut  ...  IncomeGroup  OwnsMotorcycle  \\\n",
              "count     6380.000000        6380.000000  ...  6380.000000     6380.000000   \n",
              "mean        91.013276          68.777335  ...     4.319592        0.013793   \n",
              "std        106.668454          95.513818  ...     3.144514        0.116640   \n",
              "min          0.000000           0.000000  ...     0.000000        0.000000   \n",
              "25%         22.700000          11.300000  ...     0.000000        0.000000   \n",
              "50%         62.300000          36.300000  ...     5.000000        0.000000   \n",
              "75%        121.700000          89.000000  ...     7.000000        0.000000   \n",
              "max       1591.000000        1399.300000  ...     9.000000        1.000000   \n",
              "\n",
              "       AdjustmentsToCreditRating  MadeCallToRetentionTeam  MaritalStatus  \\\n",
              "count                6380.000000              6380.000000    3943.000000   \n",
              "mean                    0.055956                 0.034169       0.600304   \n",
              "std                     0.339910                 0.181678       0.489898   \n",
              "min                     0.000000                 0.000000       0.000000   \n",
              "25%                     0.000000                 0.000000       0.000000   \n",
              "50%                     0.000000                 0.000000       1.000000   \n",
              "75%                     0.000000                 0.000000       1.000000   \n",
              "max                     9.000000                 1.000000       1.000000   \n",
              "\n",
              "             Churn  PrizmCode_Other  PrizmCode_Rural  PrizmCode_Suburban  \\\n",
              "count  6380.000000      6380.000000      6380.000000         6380.000000   \n",
              "mean      0.283856         0.483229         0.044201            0.322257   \n",
              "std       0.450903         0.499758         0.205557            0.467377   \n",
              "min       0.000000         0.000000         0.000000            0.000000   \n",
              "25%       0.000000         0.000000         0.000000            0.000000   \n",
              "50%       0.000000         0.000000         0.000000            0.000000   \n",
              "75%       1.000000         1.000000         0.000000            1.000000   \n",
              "max       1.000000         1.000000         1.000000            1.000000   \n",
              "\n",
              "       PrizmCode_Town  \n",
              "count     6380.000000  \n",
              "mean         0.150313  \n",
              "std          0.357406  \n",
              "min          0.000000  \n",
              "25%          0.000000  \n",
              "50%          0.000000  \n",
              "75%          0.000000  \n",
              "max          1.000000  \n",
              "\n",
              "[8 rows x 46 columns]"
            ]
          },
          "execution_count": 184,
          "metadata": {},
          "output_type": "execute_result"
        }
      ],
      "source": [
        "# .describe() prints the statistical summary\n",
        "data.describe()"
      ]
    },
    {
      "cell_type": "code",
      "execution_count": null,
      "id": "acd5c9dd",
      "metadata": {
        "id": "acd5c9dd",
        "outputId": "356f637d-e018-4524-8f67-3e6be6d36e00"
      },
      "outputs": [
        {
          "data": {
            "text/plain": [
              "Index(['MonthlyRevenue', 'MonthlyMinutes', 'TotalRecurringCharge',\n",
              "       'DirectorAssistedCalls', 'OverageMinutes', 'RoamingCalls',\n",
              "       'PercChangeMinutes', 'PercChangeRevenues', 'DroppedCalls',\n",
              "       'BlockedCalls', 'UnsweredCalls', 'CustomerCareCalls', 'ThreewayCalls',\n",
              "       'ReceivedCalls', 'OutboundCalls', 'InboundCalls', 'PeakCallsInOut',\n",
              "       'OffPeakCallsInOut', 'DroppedBlockedCalls', 'CallForwardingCalls',\n",
              "       'CallWaitingCalls', 'MonthsInService', 'UniqueSubs', 'ActiveSubs',\n",
              "       'ServiceArea', 'Handsets', 'HandsetModels', 'CurrentEquipmentDays',\n",
              "       'AgeHH1', 'AgeHH2', 'ChildrenInHH', 'HandsetRefurbished',\n",
              "       'HandsetWebCapable', 'TruckOwner', 'RVOwner', 'Homeownership',\n",
              "       'BuysViaMailOrder', 'RespondsToMailOffers', 'OptOutMailings',\n",
              "       'NonUSTravel', 'OwnsComputer', 'HasCreditCard', 'RetentionCalls',\n",
              "       'RetentionOffersAccepted', 'NewCellphoneUser', 'NotNewCellphoneUser',\n",
              "       'ReferralsMadeBySubscriber', 'IncomeGroup', 'OwnsMotorcycle',\n",
              "       'AdjustmentsToCreditRating', 'HandsetPrice', 'MadeCallToRetentionTeam',\n",
              "       'CreditRating', 'Occupation', 'MaritalStatus', 'Churn',\n",
              "       'PrizmCode_Other', 'PrizmCode_Rural', 'PrizmCode_Suburban',\n",
              "       'PrizmCode_Town'],\n",
              "      dtype='object')"
            ]
          },
          "execution_count": 185,
          "metadata": {},
          "output_type": "execute_result"
        }
      ],
      "source": [
        "# Printing all the collumns we have \n",
        "data.columns"
      ]
    },
    {
      "cell_type": "code",
      "execution_count": null,
      "id": "404d1e07",
      "metadata": {
        "id": "404d1e07",
        "outputId": "5391fcbb-3114-401d-c2f8-2b82359bff4a"
      },
      "outputs": [
        {
          "data": {
            "text/plain": [
              "29.99     136\n",
              "34.99     101\n",
              "30.26      59\n",
              "49.99      47\n",
              "10         46\n",
              "         ... \n",
              "14.45       1\n",
              "119.15      1\n",
              "17.28       1\n",
              "65.58       1\n",
              "20.32       1\n",
              "Name: MonthlyRevenue, Length: 4066, dtype: int64"
            ]
          },
          "execution_count": 186,
          "metadata": {},
          "output_type": "execute_result"
        }
      ],
      "source": [
        "data[\"MonthlyRevenue\"].value_counts()"
      ]
    },
    {
      "cell_type": "code",
      "execution_count": null,
      "id": "e3b512d9",
      "metadata": {
        "id": "e3b512d9"
      },
      "outputs": [],
      "source": [
        "# Removing those collumns which cotain a large number of missing values\n",
        "data.drop(\"HandsetPrice\", axis=1, inplace=True)"
      ]
    },
    {
      "cell_type": "code",
      "execution_count": null,
      "id": "cacb8db5",
      "metadata": {
        "id": "cacb8db5"
      },
      "outputs": [],
      "source": [
        "data.drop(\"MaritalStatus\", axis=1, inplace=True)"
      ]
    },
    {
      "cell_type": "code",
      "execution_count": null,
      "id": "c120e5e6",
      "metadata": {
        "id": "c120e5e6"
      },
      "outputs": [],
      "source": [
        "data.drop(\"ServiceArea\", axis=1, inplace=True)"
      ]
    },
    {
      "cell_type": "code",
      "execution_count": null,
      "id": "eb528a9d",
      "metadata": {
        "id": "eb528a9d"
      },
      "outputs": [],
      "source": [
        "data.drop(\"CreditRating\", axis=1, inplace=True)"
      ]
    },
    {
      "cell_type": "code",
      "execution_count": null,
      "id": "015c168b",
      "metadata": {
        "id": "015c168b"
      },
      "outputs": [],
      "source": [
        "data.drop(\"Occupation\", axis=1, inplace=True)"
      ]
    },
    {
      "cell_type": "code",
      "execution_count": null,
      "id": "e49a4f82",
      "metadata": {
        "id": "e49a4f82"
      },
      "outputs": [],
      "source": [
        "data.drop(\"Homeownership\", axis=1, inplace=True)\n"
      ]
    },
    {
      "cell_type": "code",
      "execution_count": null,
      "id": "b37e8355",
      "metadata": {
        "id": "b37e8355"
      },
      "outputs": [],
      "source": [
        "# Removing the Un-neccessary characters from data\n",
        "data = data[data != \"?\"]"
      ]
    },
    {
      "cell_type": "code",
      "execution_count": null,
      "id": "d4e0b89f",
      "metadata": {
        "id": "d4e0b89f",
        "outputId": "d829a219-7882-463c-b9db-8f663ed5868b"
      },
      "outputs": [
        {
          "data": {
            "text/plain": [
              "(6380, 54)"
            ]
          },
          "execution_count": 194,
          "metadata": {},
          "output_type": "execute_result"
        }
      ],
      "source": [
        "data.shape"
      ]
    },
    {
      "cell_type": "code",
      "execution_count": null,
      "id": "a3f56739",
      "metadata": {
        "id": "a3f56739"
      },
      "outputs": [],
      "source": [
        "# Changing the object data type to numeric\n",
        "data[['MonthlyRevenue', 'MonthlyMinutes']] = data[['MonthlyRevenue', 'MonthlyMinutes']].apply(pd.to_numeric)\n"
      ]
    },
    {
      "cell_type": "code",
      "execution_count": null,
      "id": "d2ab7382",
      "metadata": {
        "id": "d2ab7382"
      },
      "outputs": [],
      "source": [
        "data[['TotalRecurringCharge',\n",
        "       'DirectorAssistedCalls', 'OverageMinutes', 'RoamingCalls',\n",
        "       'PercChangeMinutes', 'PercChangeRevenues']] = data[['TotalRecurringCharge',\n",
        "       'DirectorAssistedCalls', 'OverageMinutes', 'RoamingCalls',\n",
        "       'PercChangeMinutes', 'PercChangeRevenues']].apply(pd.to_numeric)\n"
      ]
    },
    {
      "cell_type": "code",
      "execution_count": null,
      "id": "1ea19f4d",
      "metadata": {
        "id": "1ea19f4d",
        "outputId": "1d3cf745-54ff-4073-ebbd-5f51fccb74db"
      },
      "outputs": [
        {
          "data": {
            "text/plain": [
              "MonthlyRevenue               float64\n",
              "MonthlyMinutes               float64\n",
              "TotalRecurringCharge         float64\n",
              "DirectorAssistedCalls        float64\n",
              "OverageMinutes               float64\n",
              "RoamingCalls                 float64\n",
              "PercChangeMinutes            float64\n",
              "PercChangeRevenues           float64\n",
              "DroppedCalls                 float64\n",
              "BlockedCalls                 float64\n",
              "UnsweredCalls                float64\n",
              "CustomerCareCalls            float64\n",
              "ThreewayCalls                float64\n",
              "ReceivedCalls                float64\n",
              "OutboundCalls                float64\n",
              "InboundCalls                 float64\n",
              "PeakCallsInOut               float64\n",
              "OffPeakCallsInOut            float64\n",
              "DroppedBlockedCalls          float64\n",
              "CallForwardingCalls          float64\n",
              "CallWaitingCalls             float64\n",
              "MonthsInService                int64\n",
              "UniqueSubs                     int64\n",
              "ActiveSubs                     int64\n",
              "Handsets                       int64\n",
              "HandsetModels                  int64\n",
              "CurrentEquipmentDays           int64\n",
              "AgeHH1                        object\n",
              "AgeHH2                        object\n",
              "ChildrenInHH                   int64\n",
              "HandsetRefurbished             int64\n",
              "HandsetWebCapable              int64\n",
              "TruckOwner                     int64\n",
              "RVOwner                        int64\n",
              "BuysViaMailOrder               int64\n",
              "RespondsToMailOffers           int64\n",
              "OptOutMailings                 int64\n",
              "NonUSTravel                    int64\n",
              "OwnsComputer                   int64\n",
              "HasCreditCard                  int64\n",
              "RetentionCalls                 int64\n",
              "RetentionOffersAccepted        int64\n",
              "NewCellphoneUser               int64\n",
              "NotNewCellphoneUser            int64\n",
              "ReferralsMadeBySubscriber      int64\n",
              "IncomeGroup                    int64\n",
              "OwnsMotorcycle                 int64\n",
              "AdjustmentsToCreditRating      int64\n",
              "MadeCallToRetentionTeam        int64\n",
              "Churn                          int64\n",
              "PrizmCode_Other                uint8\n",
              "PrizmCode_Rural                uint8\n",
              "PrizmCode_Suburban             uint8\n",
              "PrizmCode_Town                 uint8\n",
              "dtype: object"
            ]
          },
          "execution_count": 197,
          "metadata": {},
          "output_type": "execute_result"
        }
      ],
      "source": [
        "# After changing the object data type to numeric printing the Data Type again\n",
        "data.dtypes"
      ]
    },
    {
      "cell_type": "code",
      "execution_count": null,
      "id": "c23f052e",
      "metadata": {
        "id": "c23f052e"
      },
      "outputs": [],
      "source": [
        "data[['AgeHH1', 'AgeHH2']] = data[['AgeHH1', 'AgeHH2']].apply(pd.to_numeric)\n"
      ]
    },
    {
      "cell_type": "code",
      "execution_count": null,
      "id": "3921ffe5",
      "metadata": {
        "id": "3921ffe5",
        "outputId": "e1babc4d-62ec-438e-ff0d-f5fed49478db"
      },
      "outputs": [
        {
          "data": {
            "text/plain": [
              "MonthlyRevenue               float64\n",
              "MonthlyMinutes               float64\n",
              "TotalRecurringCharge         float64\n",
              "DirectorAssistedCalls        float64\n",
              "OverageMinutes               float64\n",
              "RoamingCalls                 float64\n",
              "PercChangeMinutes            float64\n",
              "PercChangeRevenues           float64\n",
              "DroppedCalls                 float64\n",
              "BlockedCalls                 float64\n",
              "UnsweredCalls                float64\n",
              "CustomerCareCalls            float64\n",
              "ThreewayCalls                float64\n",
              "ReceivedCalls                float64\n",
              "OutboundCalls                float64\n",
              "InboundCalls                 float64\n",
              "PeakCallsInOut               float64\n",
              "OffPeakCallsInOut            float64\n",
              "DroppedBlockedCalls          float64\n",
              "CallForwardingCalls          float64\n",
              "CallWaitingCalls             float64\n",
              "MonthsInService                int64\n",
              "UniqueSubs                     int64\n",
              "ActiveSubs                     int64\n",
              "Handsets                       int64\n",
              "HandsetModels                  int64\n",
              "CurrentEquipmentDays           int64\n",
              "AgeHH1                       float64\n",
              "AgeHH2                       float64\n",
              "ChildrenInHH                   int64\n",
              "HandsetRefurbished             int64\n",
              "HandsetWebCapable              int64\n",
              "TruckOwner                     int64\n",
              "RVOwner                        int64\n",
              "BuysViaMailOrder               int64\n",
              "RespondsToMailOffers           int64\n",
              "OptOutMailings                 int64\n",
              "NonUSTravel                    int64\n",
              "OwnsComputer                   int64\n",
              "HasCreditCard                  int64\n",
              "RetentionCalls                 int64\n",
              "RetentionOffersAccepted        int64\n",
              "NewCellphoneUser               int64\n",
              "NotNewCellphoneUser            int64\n",
              "ReferralsMadeBySubscriber      int64\n",
              "IncomeGroup                    int64\n",
              "OwnsMotorcycle                 int64\n",
              "AdjustmentsToCreditRating      int64\n",
              "MadeCallToRetentionTeam        int64\n",
              "Churn                          int64\n",
              "PrizmCode_Other                uint8\n",
              "PrizmCode_Rural                uint8\n",
              "PrizmCode_Suburban             uint8\n",
              "PrizmCode_Town                 uint8\n",
              "dtype: object"
            ]
          },
          "execution_count": 199,
          "metadata": {},
          "output_type": "execute_result"
        }
      ],
      "source": [
        "data.dtypes"
      ]
    },
    {
      "cell_type": "code",
      "execution_count": null,
      "id": "0bd5db87",
      "metadata": {
        "id": "0bd5db87",
        "outputId": "d2237b4e-af80-4b41-8e2f-2f13ff52fa5d"
      },
      "outputs": [
        {
          "data": {
            "text/html": [
              "<div>\n",
              "<style scoped>\n",
              "    .dataframe tbody tr th:only-of-type {\n",
              "        vertical-align: middle;\n",
              "    }\n",
              "\n",
              "    .dataframe tbody tr th {\n",
              "        vertical-align: top;\n",
              "    }\n",
              "\n",
              "    .dataframe thead th {\n",
              "        text-align: right;\n",
              "    }\n",
              "</style>\n",
              "<table border=\"1\" class=\"dataframe\">\n",
              "  <thead>\n",
              "    <tr style=\"text-align: right;\">\n",
              "      <th></th>\n",
              "      <th>MonthlyRevenue</th>\n",
              "      <th>MonthlyMinutes</th>\n",
              "      <th>TotalRecurringCharge</th>\n",
              "      <th>DirectorAssistedCalls</th>\n",
              "      <th>OverageMinutes</th>\n",
              "      <th>RoamingCalls</th>\n",
              "      <th>PercChangeMinutes</th>\n",
              "      <th>PercChangeRevenues</th>\n",
              "      <th>DroppedCalls</th>\n",
              "      <th>BlockedCalls</th>\n",
              "      <th>...</th>\n",
              "      <th>ReferralsMadeBySubscriber</th>\n",
              "      <th>IncomeGroup</th>\n",
              "      <th>OwnsMotorcycle</th>\n",
              "      <th>AdjustmentsToCreditRating</th>\n",
              "      <th>MadeCallToRetentionTeam</th>\n",
              "      <th>Churn</th>\n",
              "      <th>PrizmCode_Other</th>\n",
              "      <th>PrizmCode_Rural</th>\n",
              "      <th>PrizmCode_Suburban</th>\n",
              "      <th>PrizmCode_Town</th>\n",
              "    </tr>\n",
              "  </thead>\n",
              "  <tbody>\n",
              "    <tr>\n",
              "      <th>0</th>\n",
              "      <td>30.88</td>\n",
              "      <td>436.0</td>\n",
              "      <td>30.0</td>\n",
              "      <td>0.25</td>\n",
              "      <td>1.0</td>\n",
              "      <td>0.0</td>\n",
              "      <td>-112.0</td>\n",
              "      <td>0.1</td>\n",
              "      <td>11.0</td>\n",
              "      <td>0.3</td>\n",
              "      <td>...</td>\n",
              "      <td>0</td>\n",
              "      <td>8</td>\n",
              "      <td>0</td>\n",
              "      <td>0</td>\n",
              "      <td>0</td>\n",
              "      <td>1</td>\n",
              "      <td>1</td>\n",
              "      <td>0</td>\n",
              "      <td>0</td>\n",
              "      <td>0</td>\n",
              "    </tr>\n",
              "    <tr>\n",
              "      <th>1</th>\n",
              "      <td>44.83</td>\n",
              "      <td>172.0</td>\n",
              "      <td>45.0</td>\n",
              "      <td>0.00</td>\n",
              "      <td>0.0</td>\n",
              "      <td>0.0</td>\n",
              "      <td>-12.0</td>\n",
              "      <td>-15.5</td>\n",
              "      <td>0.3</td>\n",
              "      <td>0.3</td>\n",
              "      <td>...</td>\n",
              "      <td>0</td>\n",
              "      <td>7</td>\n",
              "      <td>0</td>\n",
              "      <td>0</td>\n",
              "      <td>0</td>\n",
              "      <td>0</td>\n",
              "      <td>0</td>\n",
              "      <td>0</td>\n",
              "      <td>1</td>\n",
              "      <td>0</td>\n",
              "    </tr>\n",
              "    <tr>\n",
              "      <th>2</th>\n",
              "      <td>42.63</td>\n",
              "      <td>838.0</td>\n",
              "      <td>50.0</td>\n",
              "      <td>0.74</td>\n",
              "      <td>5.0</td>\n",
              "      <td>0.0</td>\n",
              "      <td>28.0</td>\n",
              "      <td>-2.6</td>\n",
              "      <td>4.7</td>\n",
              "      <td>6.3</td>\n",
              "      <td>...</td>\n",
              "      <td>0</td>\n",
              "      <td>0</td>\n",
              "      <td>0</td>\n",
              "      <td>0</td>\n",
              "      <td>0</td>\n",
              "      <td>0</td>\n",
              "      <td>0</td>\n",
              "      <td>0</td>\n",
              "      <td>1</td>\n",
              "      <td>0</td>\n",
              "    </tr>\n",
              "    <tr>\n",
              "      <th>3</th>\n",
              "      <td>33.49</td>\n",
              "      <td>358.0</td>\n",
              "      <td>50.0</td>\n",
              "      <td>0.00</td>\n",
              "      <td>0.0</td>\n",
              "      <td>0.0</td>\n",
              "      <td>-16.0</td>\n",
              "      <td>0.0</td>\n",
              "      <td>1.0</td>\n",
              "      <td>4.0</td>\n",
              "      <td>...</td>\n",
              "      <td>0</td>\n",
              "      <td>8</td>\n",
              "      <td>0</td>\n",
              "      <td>0</td>\n",
              "      <td>0</td>\n",
              "      <td>0</td>\n",
              "      <td>0</td>\n",
              "      <td>0</td>\n",
              "      <td>0</td>\n",
              "      <td>1</td>\n",
              "    </tr>\n",
              "    <tr>\n",
              "      <th>4</th>\n",
              "      <td>60.94</td>\n",
              "      <td>1276.0</td>\n",
              "      <td>60.0</td>\n",
              "      <td>4.70</td>\n",
              "      <td>0.0</td>\n",
              "      <td>0.0</td>\n",
              "      <td>-188.0</td>\n",
              "      <td>0.2</td>\n",
              "      <td>5.7</td>\n",
              "      <td>19.7</td>\n",
              "      <td>...</td>\n",
              "      <td>0</td>\n",
              "      <td>0</td>\n",
              "      <td>0</td>\n",
              "      <td>0</td>\n",
              "      <td>0</td>\n",
              "      <td>0</td>\n",
              "      <td>1</td>\n",
              "      <td>0</td>\n",
              "      <td>0</td>\n",
              "      <td>0</td>\n",
              "    </tr>\n",
              "  </tbody>\n",
              "</table>\n",
              "<p>5 rows × 54 columns</p>\n",
              "</div>"
            ],
            "text/plain": [
              "   MonthlyRevenue  MonthlyMinutes  TotalRecurringCharge  \\\n",
              "0           30.88           436.0                  30.0   \n",
              "1           44.83           172.0                  45.0   \n",
              "2           42.63           838.0                  50.0   \n",
              "3           33.49           358.0                  50.0   \n",
              "4           60.94          1276.0                  60.0   \n",
              "\n",
              "   DirectorAssistedCalls  OverageMinutes  RoamingCalls  PercChangeMinutes  \\\n",
              "0                   0.25             1.0           0.0             -112.0   \n",
              "1                   0.00             0.0           0.0              -12.0   \n",
              "2                   0.74             5.0           0.0               28.0   \n",
              "3                   0.00             0.0           0.0              -16.0   \n",
              "4                   4.70             0.0           0.0             -188.0   \n",
              "\n",
              "   PercChangeRevenues  DroppedCalls  BlockedCalls  ...  \\\n",
              "0                 0.1          11.0           0.3  ...   \n",
              "1               -15.5           0.3           0.3  ...   \n",
              "2                -2.6           4.7           6.3  ...   \n",
              "3                 0.0           1.0           4.0  ...   \n",
              "4                 0.2           5.7          19.7  ...   \n",
              "\n",
              "   ReferralsMadeBySubscriber  IncomeGroup  OwnsMotorcycle  \\\n",
              "0                          0            8               0   \n",
              "1                          0            7               0   \n",
              "2                          0            0               0   \n",
              "3                          0            8               0   \n",
              "4                          0            0               0   \n",
              "\n",
              "   AdjustmentsToCreditRating  MadeCallToRetentionTeam  Churn  PrizmCode_Other  \\\n",
              "0                          0                        0      1                1   \n",
              "1                          0                        0      0                0   \n",
              "2                          0                        0      0                0   \n",
              "3                          0                        0      0                0   \n",
              "4                          0                        0      0                1   \n",
              "\n",
              "   PrizmCode_Rural  PrizmCode_Suburban  PrizmCode_Town  \n",
              "0                0                   0               0  \n",
              "1                0                   1               0  \n",
              "2                0                   1               0  \n",
              "3                0                   0               1  \n",
              "4                0                   0               0  \n",
              "\n",
              "[5 rows x 54 columns]"
            ]
          },
          "execution_count": 200,
          "metadata": {},
          "output_type": "execute_result"
        }
      ],
      "source": [
        "data.head(5)"
      ]
    },
    {
      "cell_type": "code",
      "execution_count": null,
      "id": "44727f7f",
      "metadata": {
        "id": "44727f7f",
        "outputId": "45e6f88e-b755-4433-81f0-0e313182a3ec"
      },
      "outputs": [
        {
          "data": {
            "text/plain": [
              "Index(['MonthlyRevenue', 'MonthlyMinutes', 'TotalRecurringCharge',\n",
              "       'DirectorAssistedCalls', 'OverageMinutes', 'RoamingCalls',\n",
              "       'PercChangeMinutes', 'PercChangeRevenues', 'DroppedCalls',\n",
              "       'BlockedCalls', 'UnsweredCalls', 'CustomerCareCalls', 'ThreewayCalls',\n",
              "       'ReceivedCalls', 'OutboundCalls', 'InboundCalls', 'PeakCallsInOut',\n",
              "       'OffPeakCallsInOut', 'DroppedBlockedCalls', 'CallForwardingCalls',\n",
              "       'CallWaitingCalls', 'MonthsInService', 'UniqueSubs', 'ActiveSubs',\n",
              "       'Handsets', 'HandsetModels', 'CurrentEquipmentDays', 'AgeHH1', 'AgeHH2',\n",
              "       'ChildrenInHH', 'HandsetRefurbished', 'HandsetWebCapable', 'TruckOwner',\n",
              "       'RVOwner', 'BuysViaMailOrder', 'RespondsToMailOffers', 'OptOutMailings',\n",
              "       'NonUSTravel', 'OwnsComputer', 'HasCreditCard', 'RetentionCalls',\n",
              "       'RetentionOffersAccepted', 'NewCellphoneUser', 'NotNewCellphoneUser',\n",
              "       'ReferralsMadeBySubscriber', 'IncomeGroup', 'OwnsMotorcycle',\n",
              "       'AdjustmentsToCreditRating', 'MadeCallToRetentionTeam', 'Churn',\n",
              "       'PrizmCode_Other', 'PrizmCode_Rural', 'PrizmCode_Suburban',\n",
              "       'PrizmCode_Town'],\n",
              "      dtype='object')"
            ]
          },
          "execution_count": 201,
          "metadata": {},
          "output_type": "execute_result"
        }
      ],
      "source": [
        "data.columns"
      ]
    },
    {
      "cell_type": "markdown",
      "id": "97dc19e9",
      "metadata": {
        "id": "97dc19e9"
      },
      "source": [
        "# DATA NORMALIZATION"
      ]
    },
    {
      "cell_type": "code",
      "execution_count": null,
      "id": "f401b81a",
      "metadata": {
        "id": "f401b81a"
      },
      "outputs": [],
      "source": [
        "# Now we are doing the Data Normalization\n",
        "\n",
        "min_max_columns = ['MonthlyRevenue', 'MonthlyMinutes', 'TotalRecurringCharge', \"DirectorAssistedCalls\",\"OverageMinutes\", \"RoamingCalls\", \"PercChangeMinutes\", \"PercChangeRevenues\", \"BlockedCalls\", 'UnsweredCalls', 'CustomerCareCalls', 'ThreewayCalls',\n",
        "       'ReceivedCalls', 'OutboundCalls', 'InboundCalls', 'PeakCallsInOut',\n",
        "       'OffPeakCallsInOut', 'DroppedBlockedCalls', 'CallForwardingCalls',\n",
        "       'CallWaitingCalls', 'MonthsInService', 'UniqueSubs', 'ActiveSubs', 'Handsets', 'HandsetModels', 'CurrentEquipmentDays', 'AgeHH1', 'AgeHH2', \"IncomeGroup\"]\n",
        "\n",
        "for column in min_max_columns:\n",
        "        min_column = data[column].min()\n",
        "        max_column = data[column].max()\n",
        "        data[column] = (data[column] - min_column) / (max_column - min_column)   \n"
      ]
    },
    {
      "cell_type": "markdown",
      "source": [
        "DATA WRANGLING"
      ],
      "metadata": {
        "id": "7XsZ7u6AC5fY"
      },
      "id": "7XsZ7u6AC5fY"
    },
    {
      "cell_type": "code",
      "execution_count": null,
      "id": "f58f18ee",
      "metadata": {
        "id": "f58f18ee"
      },
      "outputs": [],
      "source": [
        "# Removing all the Missing Values\n",
        "data.dropna(inplace = True)"
      ]
    },
    {
      "cell_type": "code",
      "execution_count": null,
      "id": "60bbaf55",
      "metadata": {
        "id": "60bbaf55",
        "outputId": "e0ccf831-7898-4bad-b7e4-6d51ef041034"
      },
      "outputs": [
        {
          "name": "stderr",
          "output_type": "stream",
          "text": [
            "findfont: Font family ['normal'] not found. Falling back to DejaVu Sans.\n"
          ]
        },
        {
          "data": {
            "text/plain": [
              "<AxesSubplot:>"
            ]
          },
          "execution_count": 204,
          "metadata": {},
          "output_type": "execute_result"
        },
        {
          "data": {
            "image/png": "[encoded data removed]",
            "text/plain": [
              "<Figure size 432x288 with 2 Axes>"
            ]
          },
          "metadata": {
            "needs_background": "light"
          },
          "output_type": "display_data"
        }
      ],
      "source": [
        "# Creating an Heat Map of all the missing values\n",
        "sns.heatmap(data.isnull(), yticklabels = False, cmap = \"viridis\")"
      ]
    },
    {
      "cell_type": "markdown",
      "id": "ec28317f",
      "metadata": {
        "id": "ec28317f"
      },
      "source": [
        "# Data Analysis"
      ]
    },
    {
      "cell_type": "code",
      "execution_count": null,
      "id": "bf3bf3be",
      "metadata": {
        "id": "bf3bf3be",
        "outputId": "289d1063-7390-437c-9bdc-d5f0aef9be0d"
      },
      "outputs": [
        {
          "data": {
            "text/plain": [
              "<AxesSubplot:>"
            ]
          },
          "execution_count": 205,
          "metadata": {},
          "output_type": "execute_result"
        },
        {
          "data": {
            "image/png": "[encoded data removed]",
            "text/plain": [
              "<Figure size 432x288 with 1 Axes>"
            ]
          },
          "metadata": {
            "needs_background": "light"
          },
          "output_type": "display_data"
        }
      ],
      "source": [
        "# Now we are doing the Data Analysis, we are creating bar plots\n",
        "dfv[\"Churn\"].value_counts().sort_values().plot.bar(color=['springgreen','salmon'])\n"
      ]
    },
    {
      "cell_type": "code",
      "execution_count": null,
      "id": "5c90f000",
      "metadata": {
        "id": "5c90f000",
        "outputId": "1b54da91-fd2c-4a81-bd9f-88c8876344c9"
      },
      "outputs": [
        {
          "data": {
            "text/plain": [
              "<AxesSubplot:>"
            ]
          },
          "execution_count": 206,
          "metadata": {},
          "output_type": "execute_result"
        },
        {
          "data": {
            "image/png": "[encoded data removed]",
            "text/plain": [
              "<Figure size 432x288 with 1 Axes>"
            ]
          },
          "metadata": {
            "needs_background": "light"
          },
          "output_type": "display_data"
        }
      ],
      "source": [
        "# Now we are doing the Data Analysis, we are creating bar plots\n",
        "\n",
        "df[\"PrizmCode\"].value_counts().sort_values().plot.bar(color=['springgreen','salmon'])\n"
      ]
    },
    {
      "cell_type": "code",
      "execution_count": null,
      "id": "b83b19d6",
      "metadata": {
        "id": "b83b19d6",
        "outputId": "0087866b-9ca5-419d-ebc0-ab7df45de083"
      },
      "outputs": [
        {
          "data": {
            "text/plain": [
              "(array([6.211e+03, 1.100e+01, 3.000e+00, 2.000e+00, 0.000e+00, 0.000e+00,\n",
              "        0.000e+00, 0.000e+00, 0.000e+00, 1.000e+00]),\n",
              " array([0. , 0.1, 0.2, 0.3, 0.4, 0.5, 0.6, 0.7, 0.8, 0.9, 1. ]),\n",
              " <BarContainer object of 10 artists>)"
            ]
          },
          "execution_count": 207,
          "metadata": {},
          "output_type": "execute_result"
        },
        {
          "data": {
            "image/png": "[encoded data removed]",
            "text/plain": [
              "<Figure size 432x288 with 1 Axes>"
            ]
          },
          "metadata": {
            "needs_background": "light"
          },
          "output_type": "display_data"
        }
      ],
      "source": [
        "plt.hist(data[\"DirectorAssistedCalls\"], color=['springgreen'])\n"
      ]
    },
    {
      "cell_type": "code",
      "execution_count": null,
      "id": "da242c3b",
      "metadata": {
        "id": "da242c3b",
        "outputId": "854c3ccd-3be3-4828-a4db-63c7553cce61"
      },
      "outputs": [
        {
          "data": {
            "text/plain": [
              "(array([4.725e+03, 1.108e+03, 2.860e+02, 7.900e+01, 2.300e+01, 4.000e+00,\n",
              "        0.000e+00, 2.000e+00, 0.000e+00, 1.000e+00]),\n",
              " array([0. , 0.1, 0.2, 0.3, 0.4, 0.5, 0.6, 0.7, 0.8, 0.9, 1. ]),\n",
              " <BarContainer object of 10 artists>)"
            ]
          },
          "execution_count": 208,
          "metadata": {},
          "output_type": "execute_result"
        },
        {
          "data": {
            "image/png": "[encoded data removed]",
            "text/plain": [
              "<Figure size 432x288 with 1 Axes>"
            ]
          },
          "metadata": {
            "needs_background": "light"
          },
          "output_type": "display_data"
        }
      ],
      "source": [
        "plt.hist(data[\"MonthlyMinutes\"], color=['salmon'])"
      ]
    },
    {
      "cell_type": "code",
      "execution_count": null,
      "id": "9dfefd74",
      "metadata": {
        "id": "9dfefd74",
        "outputId": "6036cc8e-2b02-43dd-86c8-e32253caff0c"
      },
      "outputs": [
        {
          "data": {
            "text/plain": [
              "<AxesSubplot:xlabel='MonthlyMinutes'>"
            ]
          },
          "execution_count": 209,
          "metadata": {},
          "output_type": "execute_result"
        },
        {
          "data": {
            "image/png": "[encoded data removed]",
            "text/plain": [
              "<Figure size 432x288 with 1 Axes>"
            ]
          },
          "metadata": {
            "needs_background": "light"
          },
          "output_type": "display_data"
        }
      ],
      "source": [
        "# Using Seaborn we are creating an Violin Plot\n",
        "sns.violinplot(x=data[\"MonthlyMinutes\"])\n"
      ]
    },
    {
      "cell_type": "code",
      "execution_count": null,
      "id": "fa859887",
      "metadata": {
        "id": "fa859887",
        "outputId": "b4f261be-ea87-496a-b3c2-9a41c15d9cb9"
      },
      "outputs": [
        {
          "data": {
            "text/plain": [
              "<AxesSubplot:xlabel='Churn'>"
            ]
          },
          "execution_count": 210,
          "metadata": {},
          "output_type": "execute_result"
        },
        {
          "data": {
            "image/png": "[encoded data removed]",
            "text/plain": [
              "<Figure size 432x288 with 1 Axes>"
            ]
          },
          "metadata": {
            "needs_background": "light"
          },
          "output_type": "display_data"
        }
      ],
      "source": [
        "sns.violinplot(x=data[\"Churn\"], palette=\"muted\")\n"
      ]
    },
    {
      "cell_type": "code",
      "execution_count": null,
      "id": "aafc49bf",
      "metadata": {
        "id": "aafc49bf",
        "outputId": "253f1026-3e61-42e9-de08-1943c6e0f975"
      },
      "outputs": [
        {
          "data": {
            "text/plain": [
              "<AxesSubplot:xlabel='MonthlyRevenue', ylabel='Density'>"
            ]
          },
          "execution_count": 211,
          "metadata": {},
          "output_type": "execute_result"
        },
        {
          "data": {
            "image/png": "[encoded data removed]",
            "text/plain": [
              "<Figure size 432x288 with 1 Axes>"
            ]
          },
          "metadata": {
            "needs_background": "light"
          },
          "output_type": "display_data"
        }
      ],
      "source": [
        " sns.kdeplot(data['MonthlyRevenue'], shade=True)"
      ]
    },
    {
      "cell_type": "code",
      "execution_count": null,
      "id": "ed6eef29",
      "metadata": {
        "id": "ed6eef29",
        "outputId": "7e86f56f-8dff-4342-e31b-b97e68f936dc"
      },
      "outputs": [
        {
          "data": {
            "text/plain": [
              "(array([0, 1, 2, 3, 4, 5, 6, 7]),\n",
              " [Text(0, 0, 'Other'),\n",
              "  Text(1, 0, 'Professiol'),\n",
              "  Text(2, 0, 'Crafts'),\n",
              "  Text(3, 0, 'Retired'),\n",
              "  Text(4, 0, 'Clerical'),\n",
              "  Text(5, 0, 'Self'),\n",
              "  Text(6, 0, 'Student'),\n",
              "  Text(7, 0, 'Homemaker')])"
            ]
          },
          "execution_count": 212,
          "metadata": {},
          "output_type": "execute_result"
        },
        {
          "name": "stderr",
          "output_type": "stream",
          "text": [
            "findfont: Font family ['normal'] not found. Falling back to DejaVu Sans.\n"
          ]
        },
        {
          "data": {
            "image/png": "[encoded data removed]",
            "text/plain": [
              "<Figure size 720x720 with 1 Axes>"
            ]
          },
          "metadata": {
            "needs_background": "light"
          },
          "output_type": "display_data"
        }
      ],
      "source": [
        "fig_dims = (10, 10)\n",
        "fig, ax = plt.subplots(figsize=fig_dims)\n",
        "sns.barplot(x = \"Occupation\", y = \"Churn\", data = df, ax = ax)\n",
        "plt.ylabel(\"Churn\", fontsize = 30)\n",
        "plt.xlabel(\"Occupation\", fontsize = 30)\n",
        "plt.xticks(rotation = 45, fontsize = 15)"
      ]
    },
    {
      "cell_type": "code",
      "execution_count": null,
      "id": "3e5345f9",
      "metadata": {
        "id": "3e5345f9",
        "outputId": "2779c9a0-83b9-441f-f67b-9fa5fe431343"
      },
      "outputs": [
        {
          "data": {
            "text/plain": [
              "(array([0, 1, 2, 3]),\n",
              " [Text(0, 0, 'Other'),\n",
              "  Text(1, 0, 'Suburban'),\n",
              "  Text(2, 0, 'Town'),\n",
              "  Text(3, 0, 'Rural')])"
            ]
          },
          "execution_count": 213,
          "metadata": {},
          "output_type": "execute_result"
        },
        {
          "data": {
            "image/png": "[encoded data removed]",
            "text/plain": [
              "<Figure size 720x720 with 1 Axes>"
            ]
          },
          "metadata": {
            "needs_background": "light"
          },
          "output_type": "display_data"
        }
      ],
      "source": [
        "fig_dims = (10, 10)\n",
        "fig, ax = plt.subplots(figsize=fig_dims)\n",
        "sns.barplot(x = \"PrizmCode\", y = \"Churn\", data = df, ax = ax)\n",
        "plt.ylabel(\"Churn\", fontsize = 30)\n",
        "plt.xlabel(\"Prizm Code\", fontsize = 30)\n",
        "plt.xticks(rotation = 45, fontsize = 15)"
      ]
    },
    {
      "cell_type": "code",
      "execution_count": null,
      "id": "74ffbc12",
      "metadata": {
        "id": "74ffbc12",
        "outputId": "b459d5c2-bb2a-4936-e3da-58ce2a76b529"
      },
      "outputs": [
        {
          "data": {
            "text/plain": [
              "(array([0, 1]), [Text(0, 0, 'No'), Text(1, 0, 'Yes')])"
            ]
          },
          "execution_count": 214,
          "metadata": {},
          "output_type": "execute_result"
        },
        {
          "data": {
            "image/png": "[encoded data removed]",
            "text/plain": [
              "<Figure size 720x720 with 1 Axes>"
            ]
          },
          "metadata": {
            "needs_background": "light"
          },
          "output_type": "display_data"
        }
      ],
      "source": [
        "fig_dims = (10, 10)\n",
        "fig, ax = plt.subplots(figsize=fig_dims)\n",
        "sns.barplot(x = \"MadeCallToRetentionTeam\", y = \"Churn\", data = df, ax = ax)\n",
        "plt.ylabel(\"Churn\", fontsize = 30)\n",
        "plt.xlabel(\"Made Call To Retention Team\", fontsize = 30)\n",
        "plt.xticks(rotation = 45, fontsize = 15)\n"
      ]
    },
    {
      "cell_type": "code",
      "execution_count": null,
      "id": "07838c5c",
      "metadata": {
        "id": "07838c5c",
        "outputId": "20c6e84e-c6b6-4f55-8b03-3f1298cdd9e8"
      },
      "outputs": [
        {
          "data": {
            "text/html": [
              "<div>\n",
              "<style scoped>\n",
              "    .dataframe tbody tr th:only-of-type {\n",
              "        vertical-align: middle;\n",
              "    }\n",
              "\n",
              "    .dataframe tbody tr th {\n",
              "        vertical-align: top;\n",
              "    }\n",
              "\n",
              "    .dataframe thead th {\n",
              "        text-align: right;\n",
              "    }\n",
              "</style>\n",
              "<table border=\"1\" class=\"dataframe\">\n",
              "  <thead>\n",
              "    <tr style=\"text-align: right;\">\n",
              "      <th></th>\n",
              "      <th>MonthlyRevenue</th>\n",
              "      <th>MonthlyMinutes</th>\n",
              "      <th>TotalRecurringCharge</th>\n",
              "      <th>DirectorAssistedCalls</th>\n",
              "      <th>OverageMinutes</th>\n",
              "      <th>RoamingCalls</th>\n",
              "      <th>PercChangeMinutes</th>\n",
              "      <th>PercChangeRevenues</th>\n",
              "      <th>DroppedCalls</th>\n",
              "      <th>BlockedCalls</th>\n",
              "      <th>...</th>\n",
              "      <th>ReferralsMadeBySubscriber</th>\n",
              "      <th>IncomeGroup</th>\n",
              "      <th>OwnsMotorcycle</th>\n",
              "      <th>AdjustmentsToCreditRating</th>\n",
              "      <th>MadeCallToRetentionTeam</th>\n",
              "      <th>Churn</th>\n",
              "      <th>PrizmCode_Other</th>\n",
              "      <th>PrizmCode_Rural</th>\n",
              "      <th>PrizmCode_Suburban</th>\n",
              "      <th>PrizmCode_Town</th>\n",
              "    </tr>\n",
              "  </thead>\n",
              "  <tbody>\n",
              "    <tr>\n",
              "      <th>0</th>\n",
              "      <td>0.047352</td>\n",
              "      <td>0.059247</td>\n",
              "      <td>0.088670</td>\n",
              "      <td>0.001568</td>\n",
              "      <td>0.000439</td>\n",
              "      <td>0.0</td>\n",
              "      <td>0.483114</td>\n",
              "      <td>0.427136</td>\n",
              "      <td>11.0</td>\n",
              "      <td>0.002073</td>\n",
              "      <td>...</td>\n",
              "      <td>0</td>\n",
              "      <td>0.888889</td>\n",
              "      <td>0</td>\n",
              "      <td>0</td>\n",
              "      <td>0</td>\n",
              "      <td>1</td>\n",
              "      <td>1</td>\n",
              "      <td>0</td>\n",
              "      <td>0</td>\n",
              "      <td>0</td>\n",
              "    </tr>\n",
              "    <tr>\n",
              "      <th>1</th>\n",
              "      <td>0.065181</td>\n",
              "      <td>0.023373</td>\n",
              "      <td>0.125616</td>\n",
              "      <td>0.000000</td>\n",
              "      <td>0.000000</td>\n",
              "      <td>0.0</td>\n",
              "      <td>0.503707</td>\n",
              "      <td>0.415075</td>\n",
              "      <td>0.3</td>\n",
              "      <td>0.002073</td>\n",
              "      <td>...</td>\n",
              "      <td>0</td>\n",
              "      <td>0.777778</td>\n",
              "      <td>0</td>\n",
              "      <td>0</td>\n",
              "      <td>0</td>\n",
              "      <td>0</td>\n",
              "      <td>0</td>\n",
              "      <td>0</td>\n",
              "      <td>1</td>\n",
              "      <td>0</td>\n",
              "    </tr>\n",
              "    <tr>\n",
              "      <th>2</th>\n",
              "      <td>0.062369</td>\n",
              "      <td>0.113874</td>\n",
              "      <td>0.137931</td>\n",
              "      <td>0.004643</td>\n",
              "      <td>0.002195</td>\n",
              "      <td>0.0</td>\n",
              "      <td>0.511944</td>\n",
              "      <td>0.425048</td>\n",
              "      <td>4.7</td>\n",
              "      <td>0.043538</td>\n",
              "      <td>...</td>\n",
              "      <td>0</td>\n",
              "      <td>0.000000</td>\n",
              "      <td>0</td>\n",
              "      <td>0</td>\n",
              "      <td>0</td>\n",
              "      <td>0</td>\n",
              "      <td>0</td>\n",
              "      <td>0</td>\n",
              "      <td>1</td>\n",
              "      <td>0</td>\n",
              "    </tr>\n",
              "    <tr>\n",
              "      <th>3</th>\n",
              "      <td>0.050688</td>\n",
              "      <td>0.048648</td>\n",
              "      <td>0.137931</td>\n",
              "      <td>0.000000</td>\n",
              "      <td>0.000000</td>\n",
              "      <td>0.0</td>\n",
              "      <td>0.502883</td>\n",
              "      <td>0.427058</td>\n",
              "      <td>1.0</td>\n",
              "      <td>0.027643</td>\n",
              "      <td>...</td>\n",
              "      <td>0</td>\n",
              "      <td>0.888889</td>\n",
              "      <td>0</td>\n",
              "      <td>0</td>\n",
              "      <td>0</td>\n",
              "      <td>0</td>\n",
              "      <td>0</td>\n",
              "      <td>0</td>\n",
              "      <td>0</td>\n",
              "      <td>1</td>\n",
              "    </tr>\n",
              "    <tr>\n",
              "      <th>4</th>\n",
              "      <td>0.085770</td>\n",
              "      <td>0.173393</td>\n",
              "      <td>0.162562</td>\n",
              "      <td>0.029487</td>\n",
              "      <td>0.000000</td>\n",
              "      <td>0.0</td>\n",
              "      <td>0.467463</td>\n",
              "      <td>0.427213</td>\n",
              "      <td>5.7</td>\n",
              "      <td>0.136144</td>\n",
              "      <td>...</td>\n",
              "      <td>0</td>\n",
              "      <td>0.000000</td>\n",
              "      <td>0</td>\n",
              "      <td>0</td>\n",
              "      <td>0</td>\n",
              "      <td>0</td>\n",
              "      <td>1</td>\n",
              "      <td>0</td>\n",
              "      <td>0</td>\n",
              "      <td>0</td>\n",
              "    </tr>\n",
              "  </tbody>\n",
              "</table>\n",
              "<p>5 rows × 54 columns</p>\n",
              "</div>"
            ],
            "text/plain": [
              "   MonthlyRevenue  MonthlyMinutes  TotalRecurringCharge  \\\n",
              "0        0.047352        0.059247              0.088670   \n",
              "1        0.065181        0.023373              0.125616   \n",
              "2        0.062369        0.113874              0.137931   \n",
              "3        0.050688        0.048648              0.137931   \n",
              "4        0.085770        0.173393              0.162562   \n",
              "\n",
              "   DirectorAssistedCalls  OverageMinutes  RoamingCalls  PercChangeMinutes  \\\n",
              "0               0.001568        0.000439           0.0           0.483114   \n",
              "1               0.000000        0.000000           0.0           0.503707   \n",
              "2               0.004643        0.002195           0.0           0.511944   \n",
              "3               0.000000        0.000000           0.0           0.502883   \n",
              "4               0.029487        0.000000           0.0           0.467463   \n",
              "\n",
              "   PercChangeRevenues  DroppedCalls  BlockedCalls  ...  \\\n",
              "0            0.427136          11.0      0.002073  ...   \n",
              "1            0.415075           0.3      0.002073  ...   \n",
              "2            0.425048           4.7      0.043538  ...   \n",
              "3            0.427058           1.0      0.027643  ...   \n",
              "4            0.427213           5.7      0.136144  ...   \n",
              "\n",
              "   ReferralsMadeBySubscriber  IncomeGroup  OwnsMotorcycle  \\\n",
              "0                          0     0.888889               0   \n",
              "1                          0     0.777778               0   \n",
              "2                          0     0.000000               0   \n",
              "3                          0     0.888889               0   \n",
              "4                          0     0.000000               0   \n",
              "\n",
              "   AdjustmentsToCreditRating  MadeCallToRetentionTeam  Churn  PrizmCode_Other  \\\n",
              "0                          0                        0      1                1   \n",
              "1                          0                        0      0                0   \n",
              "2                          0                        0      0                0   \n",
              "3                          0                        0      0                0   \n",
              "4                          0                        0      0                1   \n",
              "\n",
              "   PrizmCode_Rural  PrizmCode_Suburban  PrizmCode_Town  \n",
              "0                0                   0               0  \n",
              "1                0                   1               0  \n",
              "2                0                   1               0  \n",
              "3                0                   0               1  \n",
              "4                0                   0               0  \n",
              "\n",
              "[5 rows x 54 columns]"
            ]
          },
          "execution_count": 215,
          "metadata": {},
          "output_type": "execute_result"
        }
      ],
      "source": [
        "data.head(5)"
      ]
    },
    {
      "cell_type": "markdown",
      "id": "2fcc9169",
      "metadata": {
        "id": "2fcc9169"
      },
      "source": [
        "# Train Test & Split"
      ]
    },
    {
      "cell_type": "code",
      "execution_count": null,
      "id": "313be874",
      "metadata": {
        "id": "313be874"
      },
      "outputs": [],
      "source": [
        "# Separating the Independent attribute from the Dependent Attribute\n",
        "X = data.drop(\"Churn\", axis =1)\n",
        "y = data[\"Churn\"]"
      ]
    },
    {
      "cell_type": "code",
      "execution_count": null,
      "id": "9cb42f7f",
      "metadata": {
        "id": "9cb42f7f"
      },
      "outputs": [],
      "source": [
        "# Here we are doing the Train and Test Split\n",
        "\n",
        "X_train, X_test, y_train, y_test = train_test_split(X, y, test_size = 0.25, random_state = 1)"
      ]
    },
    {
      "cell_type": "code",
      "execution_count": null,
      "id": "488c33b1",
      "metadata": {
        "id": "488c33b1",
        "outputId": "6abdab3d-bd6c-4668-d836-ef4c9225019b"
      },
      "outputs": [
        {
          "data": {
            "text/plain": [
              "(4671, 53)"
            ]
          },
          "execution_count": 218,
          "metadata": {},
          "output_type": "execute_result"
        }
      ],
      "source": [
        "X_train.shape"
      ]
    },
    {
      "cell_type": "code",
      "execution_count": null,
      "id": "a2d0e447",
      "metadata": {
        "id": "a2d0e447"
      },
      "outputs": [],
      "source": [
        "X_train.replace([np.inf, -np.inf], np.nan, inplace=True)\n",
        "\n",
        "X_train.fillna(0, inplace=True)\n",
        "\n",
        "X_test.replace([np.inf, -np.inf], np.nan, inplace=True)\n",
        "\n",
        "X_test.fillna(0, inplace=True)"
      ]
    },
    {
      "cell_type": "code",
      "execution_count": null,
      "id": "8733e6d1",
      "metadata": {
        "id": "8733e6d1",
        "outputId": "e2dd7b3f-f890-4e69-8196-b92613d36f28"
      },
      "outputs": [
        {
          "data": {
            "text/plain": [
              "(4671, 53)"
            ]
          },
          "execution_count": 220,
          "metadata": {},
          "output_type": "execute_result"
        }
      ],
      "source": [
        "X_train.shape"
      ]
    },
    {
      "cell_type": "code",
      "execution_count": null,
      "id": "cc97541b",
      "metadata": {
        "id": "cc97541b",
        "outputId": "b4c9790c-836b-45be-bee2-e03ccddb7e49"
      },
      "outputs": [
        {
          "data": {
            "text/plain": [
              "MonthlyRevenue               float64\n",
              "MonthlyMinutes               float64\n",
              "TotalRecurringCharge         float64\n",
              "DirectorAssistedCalls        float64\n",
              "OverageMinutes               float64\n",
              "RoamingCalls                 float64\n",
              "PercChangeMinutes            float64\n",
              "PercChangeRevenues           float64\n",
              "DroppedCalls                 float64\n",
              "BlockedCalls                 float64\n",
              "UnsweredCalls                float64\n",
              "CustomerCareCalls            float64\n",
              "ThreewayCalls                float64\n",
              "ReceivedCalls                float64\n",
              "OutboundCalls                float64\n",
              "InboundCalls                 float64\n",
              "PeakCallsInOut               float64\n",
              "OffPeakCallsInOut            float64\n",
              "DroppedBlockedCalls          float64\n",
              "CallForwardingCalls          float64\n",
              "CallWaitingCalls             float64\n",
              "MonthsInService              float64\n",
              "UniqueSubs                   float64\n",
              "ActiveSubs                   float64\n",
              "Handsets                     float64\n",
              "HandsetModels                float64\n",
              "CurrentEquipmentDays         float64\n",
              "AgeHH1                       float64\n",
              "AgeHH2                       float64\n",
              "ChildrenInHH                   int64\n",
              "HandsetRefurbished             int64\n",
              "HandsetWebCapable              int64\n",
              "TruckOwner                     int64\n",
              "RVOwner                        int64\n",
              "BuysViaMailOrder               int64\n",
              "RespondsToMailOffers           int64\n",
              "OptOutMailings                 int64\n",
              "NonUSTravel                    int64\n",
              "OwnsComputer                   int64\n",
              "HasCreditCard                  int64\n",
              "RetentionCalls                 int64\n",
              "RetentionOffersAccepted        int64\n",
              "NewCellphoneUser               int64\n",
              "NotNewCellphoneUser            int64\n",
              "ReferralsMadeBySubscriber      int64\n",
              "IncomeGroup                  float64\n",
              "OwnsMotorcycle                 int64\n",
              "AdjustmentsToCreditRating      int64\n",
              "MadeCallToRetentionTeam        int64\n",
              "PrizmCode_Other                uint8\n",
              "PrizmCode_Rural                uint8\n",
              "PrizmCode_Suburban             uint8\n",
              "PrizmCode_Town                 uint8\n",
              "dtype: object"
            ]
          },
          "execution_count": 221,
          "metadata": {},
          "output_type": "execute_result"
        }
      ],
      "source": [
        "X_train.dtypes"
      ]
    },
    {
      "cell_type": "markdown",
      "id": "c1df7334",
      "metadata": {
        "id": "c1df7334"
      },
      "source": [
        "# Decision Tree Classifier"
      ]
    },
    {
      "cell_type": "code",
      "execution_count": null,
      "id": "dd3770a1",
      "metadata": {
        "id": "dd3770a1",
        "outputId": "bba03394-08e4-48f8-cb3f-37468e8c94d2"
      },
      "outputs": [
        {
          "name": "stdout",
          "output_type": "stream",
          "text": [
            "Accuracy 61.72\n",
            "              precision    recall  f1-score   support\n",
            "\n",
            "           0   0.736554  0.724664  0.730561      1115\n",
            "           1   0.332609  0.346154  0.339246       442\n",
            "\n",
            "    accuracy                       0.617213      1557\n",
            "   macro avg   0.534581  0.535409  0.534903      1557\n",
            "weighted avg   0.621882  0.617213  0.619475      1557\n",
            "\n"
          ]
        },
        {
          "data": {
            "text/html": [
              "<div>\n",
              "<style scoped>\n",
              "    .dataframe tbody tr th:only-of-type {\n",
              "        vertical-align: middle;\n",
              "    }\n",
              "\n",
              "    .dataframe tbody tr th {\n",
              "        vertical-align: top;\n",
              "    }\n",
              "\n",
              "    .dataframe thead th {\n",
              "        text-align: right;\n",
              "    }\n",
              "</style>\n",
              "<table border=\"1\" class=\"dataframe\">\n",
              "  <thead>\n",
              "    <tr style=\"text-align: right;\">\n",
              "      <th>Predicted</th>\n",
              "      <th>0</th>\n",
              "      <th>1</th>\n",
              "      <th>All</th>\n",
              "    </tr>\n",
              "    <tr>\n",
              "      <th>Actual</th>\n",
              "      <th></th>\n",
              "      <th></th>\n",
              "      <th></th>\n",
              "    </tr>\n",
              "  </thead>\n",
              "  <tbody>\n",
              "    <tr>\n",
              "      <th>0</th>\n",
              "      <td>808</td>\n",
              "      <td>307</td>\n",
              "      <td>1115</td>\n",
              "    </tr>\n",
              "    <tr>\n",
              "      <th>1</th>\n",
              "      <td>289</td>\n",
              "      <td>153</td>\n",
              "      <td>442</td>\n",
              "    </tr>\n",
              "    <tr>\n",
              "      <th>All</th>\n",
              "      <td>1097</td>\n",
              "      <td>460</td>\n",
              "      <td>1557</td>\n",
              "    </tr>\n",
              "  </tbody>\n",
              "</table>\n",
              "</div>"
            ],
            "text/plain": [
              "Predicted     0    1   All\n",
              "Actual                    \n",
              "0           808  307  1115\n",
              "1           289  153   442\n",
              "All        1097  460  1557"
            ]
          },
          "execution_count": 287,
          "metadata": {},
          "output_type": "execute_result"
        }
      ],
      "source": [
        "# Implementing the Decision Tree Classifier\n",
        "decision_tree = DecisionTreeClassifier()\n",
        "#Training the model on the Training data set\n",
        "decision_tree.fit(X_train, y_train)\n",
        "# Doing the Prediction\n",
        "Y_pred = decision_tree.predict(X_test)\n",
        "acc_decision_tree1 = round(decision_tree.score(X_test, y_test) * 100, 2)\n",
        "# Printing the Classification Report\n",
        "sk_report = classification_report(\n",
        "    digits=6,\n",
        "    y_true=y_test, \n",
        "    y_pred=Y_pred)\n",
        "print(\"Accuracy\", acc_decision_tree1)\n",
        "print(sk_report)\n",
        "pd.crosstab(y_test, Y_pred, rownames=['Actual'], colnames=['Predicted'], margins=True)"
      ]
    },
    {
      "cell_type": "markdown",
      "source": [
        "Hyper-parameter Tuning of Decision Tree Classifier"
      ],
      "metadata": {
        "id": "IsGlNgL0CIi_"
      },
      "id": "IsGlNgL0CIi_"
    },
    {
      "cell_type": "code",
      "execution_count": null,
      "id": "0fc80e15",
      "metadata": {
        "id": "0fc80e15"
      },
      "outputs": [],
      "source": [
        "# Doing the Hyper parameter Tuning of the Decision Tree Classifier\n",
        "params = {\n",
        "    'max_depth': [0.1, 1, 2, 3, 5, 10, 20, 25, 30],\n",
        "    'min_samples_leaf': [1, 2, 5, 10, 20, 50, 100, 120, 150],\n",
        "    'criterion': [\"gini\", \"entropy\"]\n",
        "}"
      ]
    },
    {
      "cell_type": "code",
      "execution_count": null,
      "id": "3e70df9c",
      "metadata": {
        "id": "3e70df9c"
      },
      "outputs": [],
      "source": [
        "# Implementing the Grid Search CV\n",
        "grid_search = GridSearchCV(estimator=decision_tree, \n",
        "                           param_grid=params, \n",
        "                           cv=4, n_jobs=-1, verbose=1, scoring = \"accuracy\")"
      ]
    },
    {
      "cell_type": "code",
      "execution_count": null,
      "id": "598e208e",
      "metadata": {
        "id": "598e208e",
        "outputId": "c87beae0-099f-4d59-9364-ddfa2e250539"
      },
      "outputs": [
        {
          "name": "stdout",
          "output_type": "stream",
          "text": [
            "Fitting 4 folds for each of 162 candidates, totalling 648 fits\n"
          ]
        },
        {
          "data": {
            "text/plain": [
              "GridSearchCV(cv=4, estimator=DecisionTreeClassifier(), n_jobs=-1,\n",
              "             param_grid={'criterion': ['gini', 'entropy'],\n",
              "                         'max_depth': [0.1, 1, 2, 3, 5, 10, 20, 25, 30],\n",
              "                         'min_samples_leaf': [1, 2, 5, 10, 20, 50, 100, 120,\n",
              "                                              150]},\n",
              "             scoring='accuracy', verbose=1)"
            ]
          },
          "execution_count": 290,
          "metadata": {},
          "output_type": "execute_result"
        }
      ],
      "source": [
        "grid_search.fit(X_train, y_train)\n"
      ]
    },
    {
      "cell_type": "code",
      "execution_count": null,
      "id": "57307151",
      "metadata": {
        "id": "57307151",
        "outputId": "ccee09a1-7a7e-4a27-b2fe-c9a94bc08e04"
      },
      "outputs": [
        {
          "data": {
            "text/plain": [
              "DecisionTreeClassifier(max_depth=0.1)"
            ]
          },
          "execution_count": 291,
          "metadata": {},
          "output_type": "execute_result"
        }
      ],
      "source": [
        "grid_search.best_estimator_"
      ]
    },
    {
      "cell_type": "code",
      "execution_count": null,
      "id": "8998b40b",
      "metadata": {
        "id": "8998b40b",
        "outputId": "540b1ae3-f856-4b1b-bf41-cd25c55f0907"
      },
      "outputs": [
        {
          "name": "stdout",
          "output_type": "stream",
          "text": [
            "Accuracy 71.61\n",
            "              precision    recall  f1-score   support\n",
            "\n",
            "           0   0.716121  1.000000  0.834581      1115\n",
            "           1   0.000000  0.000000  0.000000       442\n",
            "\n",
            "    accuracy                       0.716121      1557\n",
            "   macro avg   0.358060  0.500000  0.417290      1557\n",
            "weighted avg   0.512829  0.716121  0.597661      1557\n",
            "\n"
          ]
        },
        {
          "name": "stderr",
          "output_type": "stream",
          "text": [
            "C:\\Users\\92303\\Anaconda3\\lib\\site-packages\\sklearn\\metrics\\_classification.py:1318: UndefinedMetricWarning: Precision and F-score are ill-defined and being set to 0.0 in labels with no predicted samples. Use `zero_division` parameter to control this behavior.\n",
            "  _warn_prf(average, modifier, msg_start, len(result))\n",
            "C:\\Users\\92303\\Anaconda3\\lib\\site-packages\\sklearn\\metrics\\_classification.py:1318: UndefinedMetricWarning: Precision and F-score are ill-defined and being set to 0.0 in labels with no predicted samples. Use `zero_division` parameter to control this behavior.\n",
            "  _warn_prf(average, modifier, msg_start, len(result))\n",
            "C:\\Users\\92303\\Anaconda3\\lib\\site-packages\\sklearn\\metrics\\_classification.py:1318: UndefinedMetricWarning: Precision and F-score are ill-defined and being set to 0.0 in labels with no predicted samples. Use `zero_division` parameter to control this behavior.\n",
            "  _warn_prf(average, modifier, msg_start, len(result))\n"
          ]
        },
        {
          "data": {
            "text/html": [
              "<div>\n",
              "<style scoped>\n",
              "    .dataframe tbody tr th:only-of-type {\n",
              "        vertical-align: middle;\n",
              "    }\n",
              "\n",
              "    .dataframe tbody tr th {\n",
              "        vertical-align: top;\n",
              "    }\n",
              "\n",
              "    .dataframe thead th {\n",
              "        text-align: right;\n",
              "    }\n",
              "</style>\n",
              "<table border=\"1\" class=\"dataframe\">\n",
              "  <thead>\n",
              "    <tr style=\"text-align: right;\">\n",
              "      <th>Predicted</th>\n",
              "      <th>0</th>\n",
              "      <th>All</th>\n",
              "    </tr>\n",
              "    <tr>\n",
              "      <th>Actual</th>\n",
              "      <th></th>\n",
              "      <th></th>\n",
              "    </tr>\n",
              "  </thead>\n",
              "  <tbody>\n",
              "    <tr>\n",
              "      <th>0</th>\n",
              "      <td>1115</td>\n",
              "      <td>1115</td>\n",
              "    </tr>\n",
              "    <tr>\n",
              "      <th>1</th>\n",
              "      <td>442</td>\n",
              "      <td>442</td>\n",
              "    </tr>\n",
              "    <tr>\n",
              "      <th>All</th>\n",
              "      <td>1557</td>\n",
              "      <td>1557</td>\n",
              "    </tr>\n",
              "  </tbody>\n",
              "</table>\n",
              "</div>"
            ],
            "text/plain": [
              "Predicted     0   All\n",
              "Actual               \n",
              "0          1115  1115\n",
              "1           442   442\n",
              "All        1557  1557"
            ]
          },
          "execution_count": 292,
          "metadata": {},
          "output_type": "execute_result"
        }
      ],
      "source": [
        "# Retraining the Model on the best parameters\n",
        "decision_tree = DecisionTreeClassifier(max_depth=0.1)\n",
        "decision_tree.fit(X_train, y_train)\n",
        "Y_pred = decision_tree.predict(X_test)\n",
        "acc_decision_tree1 = round(decision_tree.score(X_test, y_test) * 100, 2)\n",
        "sk_report = classification_report(\n",
        "    digits=6,\n",
        "    y_true=y_test, \n",
        "    y_pred=Y_pred)\n",
        "print(\"Accuracy\", acc_decision_tree1)\n",
        "print(sk_report)\n",
        "pd.crosstab(y_test, Y_pred, rownames=['Actual'], colnames=['Predicted'], margins=True)"
      ]
    },
    {
      "cell_type": "code",
      "execution_count": null,
      "id": "c8f53b96",
      "metadata": {
        "id": "c8f53b96",
        "outputId": "6807ab28-1cf0-4f5e-e43a-574650e2f593"
      },
      "outputs": [
        {
          "name": "stdout",
          "output_type": "stream",
          "text": [
            "\n",
            "Accuracy score \n",
            "\n",
            "0.7161207450224791\n"
          ]
        }
      ],
      "source": [
        "print('\\nAccuracy score \\n')\n",
        "print(accuracy_score(y_test,Y_pred))"
      ]
    },
    {
      "cell_type": "code",
      "execution_count": null,
      "id": "04e3f7ec",
      "metadata": {
        "id": "04e3f7ec",
        "outputId": "9e5cce72-8c91-4375-a36f-5a4abf891535"
      },
      "outputs": [
        {
          "data": {
            "text/plain": [
              "<AxesSubplot:>"
            ]
          },
          "execution_count": 295,
          "metadata": {},
          "output_type": "execute_result"
        },
        {
          "data": {
            "image/png": "[encoded data removed]",
            "text/plain": [
              "<Figure size 432x288 with 2 Axes>"
            ]
          },
          "metadata": {
            "needs_background": "light"
          },
          "output_type": "display_data"
        }
      ],
      "source": [
        "# confusion_matrix\n",
        "cm = confusion_matrix(y_test, Y_pred)\n",
        "sns.heatmap(cm, annot=True, fmt=\"d\")"
      ]
    },
    {
      "cell_type": "code",
      "execution_count": null,
      "id": "33a23c0c",
      "metadata": {
        "id": "33a23c0c",
        "outputId": "f4b3cced-38eb-469e-d7d7-8f7afbb99877"
      },
      "outputs": [
        {
          "data": {
            "text/plain": [
              "<matplotlib.legend.Legend at 0x20a3b594e20>"
            ]
          },
          "execution_count": 296,
          "metadata": {},
          "output_type": "execute_result"
        },
        {
          "name": "stderr",
          "output_type": "stream",
          "text": [
            "findfont: Font family ['normal'] not found. Falling back to DejaVu Sans.\n"
          ]
        },
        {
          "data": {
            "image/png": "[encoded data removed]",
            "text/plain": [
              "<Figure size 432x288 with 1 Axes>"
            ]
          },
          "metadata": {
            "needs_background": "light"
          },
          "output_type": "display_data"
        }
      ],
      "source": [
        "# Plotting the ROC Curve\n",
        "fpr, tpr, thresholds = roc_curve(y_test,Y_pred)\n",
        "\n",
        "plt.plot(fpr, tpr, label='ROC curve')\n",
        "plt.plot([0, 1], [0, 1], 'k--', label='Random guess')\n",
        "plt.xlabel('False Positive Rate')\n",
        "plt.ylabel('True Positive Rate')\n",
        "plt.title('ROC Curve')\n",
        "plt.xlim([-0.02, 1])\n",
        "plt.ylim([0, 1.02])\n",
        "plt.legend(loc=\"lower right\")"
      ]
    },
    {
      "cell_type": "markdown",
      "id": "2681bc66",
      "metadata": {
        "id": "2681bc66"
      },
      "source": [
        "# Support Vector Machine Classifier"
      ]
    },
    {
      "cell_type": "code",
      "execution_count": null,
      "id": "7caa7d17",
      "metadata": {
        "id": "7caa7d17"
      },
      "outputs": [],
      "source": [
        "# Implementing the Support Vector Machine Classifier\n",
        "clf = SVC()\n"
      ]
    },
    {
      "cell_type": "code",
      "execution_count": null,
      "id": "301a7a2d",
      "metadata": {
        "id": "301a7a2d",
        "outputId": "4bc7bf2f-222e-4abd-b999-eac9ea3f295a"
      },
      "outputs": [
        {
          "data": {
            "text/plain": [
              "SVC()"
            ]
          },
          "execution_count": 309,
          "metadata": {},
          "output_type": "execute_result"
        }
      ],
      "source": [
        "# Training the Support Vector Machine Clasifier\n",
        "clf.fit(X_train, y_train)"
      ]
    },
    {
      "cell_type": "code",
      "execution_count": null,
      "id": "237d6992",
      "metadata": {
        "id": "237d6992"
      },
      "outputs": [],
      "source": [
        "# Doing the Prediction on the Test data set\n",
        "Y_pred = clf.predict(X_test)"
      ]
    },
    {
      "cell_type": "code",
      "execution_count": null,
      "id": "b284c754",
      "metadata": {
        "id": "b284c754",
        "outputId": "3baa020e-05ba-431c-f9f7-b16aaca30f65"
      },
      "outputs": [
        {
          "name": "stdout",
          "output_type": "stream",
          "text": [
            "Accuracy 71.61\n",
            "              precision    recall  f1-score   support\n",
            "\n",
            "           0   0.716121  1.000000  0.834581      1115\n",
            "           1   0.000000  0.000000  0.000000       442\n",
            "\n",
            "    accuracy                       0.716121      1557\n",
            "   macro avg   0.358060  0.500000  0.417290      1557\n",
            "weighted avg   0.512829  0.716121  0.597661      1557\n",
            "\n"
          ]
        },
        {
          "name": "stderr",
          "output_type": "stream",
          "text": [
            "C:\\Users\\92303\\Anaconda3\\lib\\site-packages\\sklearn\\metrics\\_classification.py:1318: UndefinedMetricWarning: Precision and F-score are ill-defined and being set to 0.0 in labels with no predicted samples. Use `zero_division` parameter to control this behavior.\n",
            "  _warn_prf(average, modifier, msg_start, len(result))\n",
            "C:\\Users\\92303\\Anaconda3\\lib\\site-packages\\sklearn\\metrics\\_classification.py:1318: UndefinedMetricWarning: Precision and F-score are ill-defined and being set to 0.0 in labels with no predicted samples. Use `zero_division` parameter to control this behavior.\n",
            "  _warn_prf(average, modifier, msg_start, len(result))\n",
            "C:\\Users\\92303\\Anaconda3\\lib\\site-packages\\sklearn\\metrics\\_classification.py:1318: UndefinedMetricWarning: Precision and F-score are ill-defined and being set to 0.0 in labels with no predicted samples. Use `zero_division` parameter to control this behavior.\n",
            "  _warn_prf(average, modifier, msg_start, len(result))\n"
          ]
        },
        {
          "data": {
            "text/html": [
              "<div>\n",
              "<style scoped>\n",
              "    .dataframe tbody tr th:only-of-type {\n",
              "        vertical-align: middle;\n",
              "    }\n",
              "\n",
              "    .dataframe tbody tr th {\n",
              "        vertical-align: top;\n",
              "    }\n",
              "\n",
              "    .dataframe thead th {\n",
              "        text-align: right;\n",
              "    }\n",
              "</style>\n",
              "<table border=\"1\" class=\"dataframe\">\n",
              "  <thead>\n",
              "    <tr style=\"text-align: right;\">\n",
              "      <th>Predicted</th>\n",
              "      <th>0</th>\n",
              "      <th>All</th>\n",
              "    </tr>\n",
              "    <tr>\n",
              "      <th>Actual</th>\n",
              "      <th></th>\n",
              "      <th></th>\n",
              "    </tr>\n",
              "  </thead>\n",
              "  <tbody>\n",
              "    <tr>\n",
              "      <th>0</th>\n",
              "      <td>1115</td>\n",
              "      <td>1115</td>\n",
              "    </tr>\n",
              "    <tr>\n",
              "      <th>1</th>\n",
              "      <td>442</td>\n",
              "      <td>442</td>\n",
              "    </tr>\n",
              "    <tr>\n",
              "      <th>All</th>\n",
              "      <td>1557</td>\n",
              "      <td>1557</td>\n",
              "    </tr>\n",
              "  </tbody>\n",
              "</table>\n",
              "</div>"
            ],
            "text/plain": [
              "Predicted     0   All\n",
              "Actual               \n",
              "0          1115  1115\n",
              "1           442   442\n",
              "All        1557  1557"
            ]
          },
          "execution_count": 311,
          "metadata": {},
          "output_type": "execute_result"
        }
      ],
      "source": [
        "# Printing the Classification Report\n",
        "acc_decision_svm = round(clf.score(X_test, y_test) * 100, 2)\n",
        "sk_report = classification_report(\n",
        "    digits=6,\n",
        "    y_true=y_test, \n",
        "    y_pred=Y_pred)\n",
        "print(\"Accuracy\", acc_decision_svm)\n",
        "print(sk_report)\n",
        "pd.crosstab(y_test, Y_pred, rownames=['Actual'], colnames=['Predicted'], margins=True)"
      ]
    },
    {
      "cell_type": "markdown",
      "source": [
        "HYPER-PARAMETER TUNING USING SVM"
      ],
      "metadata": {
        "id": "nCcx5simCQno"
      },
      "id": "nCcx5simCQno"
    },
    {
      "cell_type": "code",
      "execution_count": null,
      "id": "74e9c353",
      "metadata": {
        "id": "74e9c353"
      },
      "outputs": [],
      "source": [
        "# Doing Hyper parameter Tuning Using SVM\n",
        "param_grid = {'C':[0.01, 0.0001], 'degree':[0.5, 1]}\n"
      ]
    },
    {
      "cell_type": "code",
      "execution_count": null,
      "id": "1165beff",
      "metadata": {
        "id": "1165beff"
      },
      "outputs": [],
      "source": [
        "# Using Grid Search CV for the Hyper Parameter Tuning\n",
        "grid = GridSearchCV(SVC(probability=True),param_grid)\n"
      ]
    },
    {
      "cell_type": "code",
      "execution_count": null,
      "id": "8552e991",
      "metadata": {
        "id": "8552e991",
        "outputId": "2ba56db8-7135-405a-c8b9-cf9f9c3ec3cd"
      },
      "outputs": [
        {
          "data": {
            "text/plain": [
              "GridSearchCV(estimator=SVC(probability=True),\n",
              "             param_grid={'C': [0.01, 0.0001], 'degree': [0.5, 1]})"
            ]
          },
          "execution_count": 314,
          "metadata": {},
          "output_type": "execute_result"
        }
      ],
      "source": [
        "grid.fit(X_train,y_train)"
      ]
    },
    {
      "cell_type": "code",
      "execution_count": null,
      "id": "097a7718",
      "metadata": {
        "id": "097a7718",
        "outputId": "16e50929-8ab2-4b64-a450-16e0391f070a"
      },
      "outputs": [
        {
          "name": "stdout",
          "output_type": "stream",
          "text": [
            "{'C': 0.01, 'degree': 0.5}\n",
            "0.7161207450224791\n"
          ]
        }
      ],
      "source": [
        "print(grid.best_params_)\n",
        "print(grid.score(X_test,y_test))"
      ]
    },
    {
      "cell_type": "code",
      "execution_count": null,
      "id": "cf501900",
      "metadata": {
        "id": "cf501900"
      },
      "outputs": [],
      "source": [
        "Y_pred = grid.predict(X_test)"
      ]
    },
    {
      "cell_type": "code",
      "execution_count": null,
      "id": "71f3d522",
      "metadata": {
        "id": "71f3d522",
        "outputId": "539a7cf8-e56c-4842-fc85-18d0c5102e51"
      },
      "outputs": [
        {
          "name": "stdout",
          "output_type": "stream",
          "text": [
            "Accuracy 71.61\n",
            "              precision    recall  f1-score   support\n",
            "\n",
            "           0   0.716121  1.000000  0.834581      1115\n",
            "           1   0.000000  0.000000  0.000000       442\n",
            "\n",
            "    accuracy                       0.716121      1557\n",
            "   macro avg   0.358060  0.500000  0.417290      1557\n",
            "weighted avg   0.512829  0.716121  0.597661      1557\n",
            "\n"
          ]
        },
        {
          "name": "stderr",
          "output_type": "stream",
          "text": [
            "C:\\Users\\92303\\Anaconda3\\lib\\site-packages\\sklearn\\metrics\\_classification.py:1318: UndefinedMetricWarning: Precision and F-score are ill-defined and being set to 0.0 in labels with no predicted samples. Use `zero_division` parameter to control this behavior.\n",
            "  _warn_prf(average, modifier, msg_start, len(result))\n",
            "C:\\Users\\92303\\Anaconda3\\lib\\site-packages\\sklearn\\metrics\\_classification.py:1318: UndefinedMetricWarning: Precision and F-score are ill-defined and being set to 0.0 in labels with no predicted samples. Use `zero_division` parameter to control this behavior.\n",
            "  _warn_prf(average, modifier, msg_start, len(result))\n",
            "C:\\Users\\92303\\Anaconda3\\lib\\site-packages\\sklearn\\metrics\\_classification.py:1318: UndefinedMetricWarning: Precision and F-score are ill-defined and being set to 0.0 in labels with no predicted samples. Use `zero_division` parameter to control this behavior.\n",
            "  _warn_prf(average, modifier, msg_start, len(result))\n"
          ]
        },
        {
          "data": {
            "text/html": [
              "<div>\n",
              "<style scoped>\n",
              "    .dataframe tbody tr th:only-of-type {\n",
              "        vertical-align: middle;\n",
              "    }\n",
              "\n",
              "    .dataframe tbody tr th {\n",
              "        vertical-align: top;\n",
              "    }\n",
              "\n",
              "    .dataframe thead th {\n",
              "        text-align: right;\n",
              "    }\n",
              "</style>\n",
              "<table border=\"1\" class=\"dataframe\">\n",
              "  <thead>\n",
              "    <tr style=\"text-align: right;\">\n",
              "      <th>Predicted</th>\n",
              "      <th>0</th>\n",
              "      <th>All</th>\n",
              "    </tr>\n",
              "    <tr>\n",
              "      <th>Actual</th>\n",
              "      <th></th>\n",
              "      <th></th>\n",
              "    </tr>\n",
              "  </thead>\n",
              "  <tbody>\n",
              "    <tr>\n",
              "      <th>0</th>\n",
              "      <td>1115</td>\n",
              "      <td>1115</td>\n",
              "    </tr>\n",
              "    <tr>\n",
              "      <th>1</th>\n",
              "      <td>442</td>\n",
              "      <td>442</td>\n",
              "    </tr>\n",
              "    <tr>\n",
              "      <th>All</th>\n",
              "      <td>1557</td>\n",
              "      <td>1557</td>\n",
              "    </tr>\n",
              "  </tbody>\n",
              "</table>\n",
              "</div>"
            ],
            "text/plain": [
              "Predicted     0   All\n",
              "Actual               \n",
              "0          1115  1115\n",
              "1           442   442\n",
              "All        1557  1557"
            ]
          },
          "execution_count": 317,
          "metadata": {},
          "output_type": "execute_result"
        }
      ],
      "source": [
        "acc_decision_svm = round(grid.score(X_test, y_test) * 100, 2)\n",
        "sk_report = classification_report(\n",
        "    digits=6,\n",
        "    y_true=y_test, \n",
        "    y_pred=Y_pred)\n",
        "print(\"Accuracy\", acc_decision_svm)\n",
        "print(sk_report)\n",
        "pd.crosstab(y_test, Y_pred, rownames=['Actual'], colnames=['Predicted'], margins=True)"
      ]
    },
    {
      "cell_type": "code",
      "execution_count": null,
      "id": "785ead25",
      "metadata": {
        "id": "785ead25",
        "outputId": "942f56f0-45d7-48a5-c6c9-462054fc5d30"
      },
      "outputs": [
        {
          "data": {
            "text/plain": [
              "<AxesSubplot:>"
            ]
          },
          "execution_count": 318,
          "metadata": {},
          "output_type": "execute_result"
        },
        {
          "data": {
            "image/png": "[encoded data removed]",
            "text/plain": [
              "<Figure size 432x288 with 2 Axes>"
            ]
          },
          "metadata": {
            "needs_background": "light"
          },
          "output_type": "display_data"
        }
      ],
      "source": [
        "# Printing the Confusion Matrix\n",
        "cm = confusion_matrix(y_test, Y_pred)\n",
        "sns.heatmap(cm, annot=True, fmt=\"d\")"
      ]
    },
    {
      "cell_type": "code",
      "execution_count": null,
      "id": "625b4a84",
      "metadata": {
        "id": "625b4a84",
        "outputId": "3115830b-2080-4e49-a328-14fda76e9aed"
      },
      "outputs": [
        {
          "data": {
            "text/plain": [
              "<matplotlib.legend.Legend at 0x20a3e81d490>"
            ]
          },
          "execution_count": 319,
          "metadata": {},
          "output_type": "execute_result"
        },
        {
          "data": {
            "image/png": "[encoded data removed]",
            "text/plain": [
              "<Figure size 432x288 with 1 Axes>"
            ]
          },
          "metadata": {
            "needs_background": "light"
          },
          "output_type": "display_data"
        }
      ],
      "source": [
        "# Plotting the ROC Curve\n",
        "fpr, tpr, thresholds = roc_curve(y_test,Y_pred)\n",
        "\n",
        "plt.plot(fpr, tpr, label='ROC curve')\n",
        "plt.plot([0, 1], [0, 1], 'k--', label='Random guess')\n",
        "plt.xlabel('False Positive Rate')\n",
        "plt.ylabel('True Positive Rate')\n",
        "plt.title('ROC Curve')\n",
        "plt.xlim([-0.02, 1])\n",
        "plt.ylim([0, 1.02])\n",
        "plt.legend(loc=\"lower right\")"
      ]
    },
    {
      "cell_type": "markdown",
      "id": "faac2593",
      "metadata": {
        "id": "faac2593"
      },
      "source": [
        "# Naive Bayes Classifier "
      ]
    },
    {
      "cell_type": "code",
      "execution_count": null,
      "id": "9d993bff",
      "metadata": {
        "id": "9d993bff",
        "outputId": "3a811d9f-f7fa-4efc-9d6f-8c7b5ab95d83"
      },
      "outputs": [
        {
          "data": {
            "text/plain": [
              "GaussianNB()"
            ]
          },
          "execution_count": 297,
          "metadata": {},
          "output_type": "execute_result"
        }
      ],
      "source": [
        "# Implementing the Gaussian Naive Bayes Classifier\n",
        "from sklearn.naive_bayes import GaussianNB\n",
        "gnb = GaussianNB()\n",
        "# Training the Naive Bayes Classifier\n",
        "gnb.fit(X_train, y_train)"
      ]
    },
    {
      "cell_type": "code",
      "execution_count": null,
      "id": "4bc812f9",
      "metadata": {
        "id": "4bc812f9",
        "outputId": "c658f582-c56d-4469-96b8-4d99dfa9bedf"
      },
      "outputs": [
        {
          "data": {
            "text/plain": [
              "array([1, 1, 0, ..., 1, 1, 1], dtype=int64)"
            ]
          },
          "execution_count": 298,
          "metadata": {},
          "output_type": "execute_result"
        }
      ],
      "source": [
        "Y_pred = gnb.predict(X_test)\n",
        "Y_pred"
      ]
    },
    {
      "cell_type": "code",
      "execution_count": null,
      "id": "441676e6",
      "metadata": {
        "id": "441676e6",
        "outputId": "94b0acba-3bc9-41e6-f5e8-850a583a2247"
      },
      "outputs": [
        {
          "name": "stdout",
          "output_type": "stream",
          "text": [
            "Accuracy 38.02\n",
            "              precision    recall  f1-score   support\n",
            "\n",
            "           0   0.756849  0.198206  0.314144      1115\n",
            "           1   0.293281  0.839367  0.434681       442\n",
            "\n",
            "    accuracy                       0.380218      1557\n",
            "   macro avg   0.525065  0.518786  0.374412      1557\n",
            "weighted avg   0.625252  0.380218  0.348362      1557\n",
            "\n"
          ]
        },
        {
          "data": {
            "text/html": [
              "<div>\n",
              "<style scoped>\n",
              "    .dataframe tbody tr th:only-of-type {\n",
              "        vertical-align: middle;\n",
              "    }\n",
              "\n",
              "    .dataframe tbody tr th {\n",
              "        vertical-align: top;\n",
              "    }\n",
              "\n",
              "    .dataframe thead th {\n",
              "        text-align: right;\n",
              "    }\n",
              "</style>\n",
              "<table border=\"1\" class=\"dataframe\">\n",
              "  <thead>\n",
              "    <tr style=\"text-align: right;\">\n",
              "      <th>Predicted</th>\n",
              "      <th>0</th>\n",
              "      <th>1</th>\n",
              "      <th>All</th>\n",
              "    </tr>\n",
              "    <tr>\n",
              "      <th>Actual</th>\n",
              "      <th></th>\n",
              "      <th></th>\n",
              "      <th></th>\n",
              "    </tr>\n",
              "  </thead>\n",
              "  <tbody>\n",
              "    <tr>\n",
              "      <th>0</th>\n",
              "      <td>221</td>\n",
              "      <td>894</td>\n",
              "      <td>1115</td>\n",
              "    </tr>\n",
              "    <tr>\n",
              "      <th>1</th>\n",
              "      <td>71</td>\n",
              "      <td>371</td>\n",
              "      <td>442</td>\n",
              "    </tr>\n",
              "    <tr>\n",
              "      <th>All</th>\n",
              "      <td>292</td>\n",
              "      <td>1265</td>\n",
              "      <td>1557</td>\n",
              "    </tr>\n",
              "  </tbody>\n",
              "</table>\n",
              "</div>"
            ],
            "text/plain": [
              "Predicted    0     1   All\n",
              "Actual                    \n",
              "0          221   894  1115\n",
              "1           71   371   442\n",
              "All        292  1265  1557"
            ]
          },
          "execution_count": 299,
          "metadata": {},
          "output_type": "execute_result"
        }
      ],
      "source": [
        "Y_pred = gnb.predict(X_test)\n",
        "acc_decision_nb = round(gnb.score(X_test, y_test) * 100, 2)\n",
        "sk_report = classification_report(\n",
        "    digits=6,\n",
        "    y_true=y_test, \n",
        "    y_pred=Y_pred)\n",
        "print(\"Accuracy\", acc_decision_nb)\n",
        "print(sk_report)\n",
        "pd.crosstab(y_test, Y_pred, rownames=['Actual'], colnames=['Predicted'], margins=True)"
      ]
    },
    {
      "cell_type": "markdown",
      "source": [
        "Doing Hyper-Parameter Tuning of Naive Bayes Classifier"
      ],
      "metadata": {
        "id": "rXi4ZFHFCWWL"
      },
      "id": "rXi4ZFHFCWWL"
    },
    {
      "cell_type": "code",
      "execution_count": null,
      "id": "3d79438a",
      "metadata": {
        "id": "3d79438a"
      },
      "outputs": [],
      "source": [
        "# Doing the Hyper Parameter Tuning of the Naive Bayes Classifier\n",
        "nb_grid = {\n",
        "    'var_smoothing': np.logspace(0,-9, num=100)\n",
        "}\n",
        "\n",
        "rs_gnb = RandomizedSearchCV(GaussianNB(),\n",
        "                           param_distributions=nb_grid,\n",
        "                           cv=5,\n",
        "                           n_iter=20,\n",
        "                           verbose=True)"
      ]
    },
    {
      "cell_type": "code",
      "execution_count": null,
      "id": "b0856b58",
      "metadata": {
        "scrolled": true,
        "id": "b0856b58",
        "outputId": "3deeff08-3519-41b6-f24a-1ef9fd07be30"
      },
      "outputs": [
        {
          "name": "stdout",
          "output_type": "stream",
          "text": [
            "Fitting 5 folds for each of 20 candidates, totalling 100 fits\n"
          ]
        },
        {
          "data": {
            "text/plain": [
              "RandomizedSearchCV(cv=5, estimator=GaussianNB(), n_iter=20,\n",
              "                   param_distributions={'var_smoothing': array([1.00000000e+00, 8.11130831e-01, 6.57933225e-01, 5.33669923e-01,\n",
              "       4.32876128e-01, 3.51119173e-01, 2.84803587e-01, 2.31012970e-01,\n",
              "       1.87381742e-01, 1.51991108e-01, 1.23284674e-01, 1.00000000e-01,\n",
              "       8.11130831e-02, 6.57933225e-02, 5.33669923e-02, 4.32876128e-02,\n",
              "       3.5111917...\n",
              "       1.23284674e-07, 1.00000000e-07, 8.11130831e-08, 6.57933225e-08,\n",
              "       5.33669923e-08, 4.32876128e-08, 3.51119173e-08, 2.84803587e-08,\n",
              "       2.31012970e-08, 1.87381742e-08, 1.51991108e-08, 1.23284674e-08,\n",
              "       1.00000000e-08, 8.11130831e-09, 6.57933225e-09, 5.33669923e-09,\n",
              "       4.32876128e-09, 3.51119173e-09, 2.84803587e-09, 2.31012970e-09,\n",
              "       1.87381742e-09, 1.51991108e-09, 1.23284674e-09, 1.00000000e-09])},\n",
              "                   verbose=True)"
            ]
          },
          "execution_count": 301,
          "metadata": {},
          "output_type": "execute_result"
        }
      ],
      "source": [
        "rs_gnb.fit(X_train, y_train)"
      ]
    },
    {
      "cell_type": "code",
      "execution_count": null,
      "id": "c93044d0",
      "metadata": {
        "id": "c93044d0",
        "outputId": "dc82281f-835c-40ef-bae1-00d216d6fc92"
      },
      "outputs": [
        {
          "name": "stdout",
          "output_type": "stream",
          "text": [
            "{'var_smoothing': 0.0023101297000831605}\n"
          ]
        }
      ],
      "source": [
        "print(rs_gnb.best_params_)"
      ]
    },
    {
      "cell_type": "code",
      "execution_count": null,
      "id": "58afd0f6",
      "metadata": {
        "id": "58afd0f6",
        "outputId": "cf9606e8-ad28-469a-b517-9b23c81ba4c5"
      },
      "outputs": [
        {
          "name": "stdout",
          "output_type": "stream",
          "text": [
            "Gaussian Naive Bayes 0.7180475272960822\n"
          ]
        }
      ],
      "source": [
        "# Choosing the Best Parameters\n",
        "model = GaussianNB(var_smoothing =  0.0023101297000831605)\n",
        "model.fit(X_train, y_train);\n",
        "print(\"Gaussian Naive Bayes\",model.score(X_test, y_test))"
      ]
    },
    {
      "cell_type": "code",
      "execution_count": null,
      "id": "d26f7fb4",
      "metadata": {
        "id": "d26f7fb4",
        "outputId": "dcdd1ed8-6d61-4fe1-bbac-1cee8fc2066c"
      },
      "outputs": [
        {
          "name": "stdout",
          "output_type": "stream",
          "text": [
            "Accuracy 71.8\n",
            "              precision    recall  f1-score   support\n",
            "\n",
            "           0   0.720627  0.990135  0.834152      1115\n",
            "           1   0.560000  0.031674  0.059957       442\n",
            "\n",
            "    accuracy                       0.718048      1557\n",
            "   macro avg   0.640313  0.510904  0.447055      1557\n",
            "weighted avg   0.675028  0.718048  0.614374      1557\n",
            "\n"
          ]
        },
        {
          "data": {
            "text/html": [
              "<div>\n",
              "<style scoped>\n",
              "    .dataframe tbody tr th:only-of-type {\n",
              "        vertical-align: middle;\n",
              "    }\n",
              "\n",
              "    .dataframe tbody tr th {\n",
              "        vertical-align: top;\n",
              "    }\n",
              "\n",
              "    .dataframe thead th {\n",
              "        text-align: right;\n",
              "    }\n",
              "</style>\n",
              "<table border=\"1\" class=\"dataframe\">\n",
              "  <thead>\n",
              "    <tr style=\"text-align: right;\">\n",
              "      <th>Predicted</th>\n",
              "      <th>0</th>\n",
              "      <th>1</th>\n",
              "      <th>All</th>\n",
              "    </tr>\n",
              "    <tr>\n",
              "      <th>Actual</th>\n",
              "      <th></th>\n",
              "      <th></th>\n",
              "      <th></th>\n",
              "    </tr>\n",
              "  </thead>\n",
              "  <tbody>\n",
              "    <tr>\n",
              "      <th>0</th>\n",
              "      <td>1104</td>\n",
              "      <td>11</td>\n",
              "      <td>1115</td>\n",
              "    </tr>\n",
              "    <tr>\n",
              "      <th>1</th>\n",
              "      <td>428</td>\n",
              "      <td>14</td>\n",
              "      <td>442</td>\n",
              "    </tr>\n",
              "    <tr>\n",
              "      <th>All</th>\n",
              "      <td>1532</td>\n",
              "      <td>25</td>\n",
              "      <td>1557</td>\n",
              "    </tr>\n",
              "  </tbody>\n",
              "</table>\n",
              "</div>"
            ],
            "text/plain": [
              "Predicted     0   1   All\n",
              "Actual                   \n",
              "0          1104  11  1115\n",
              "1           428  14   442\n",
              "All        1532  25  1557"
            ]
          },
          "execution_count": 305,
          "metadata": {},
          "output_type": "execute_result"
        }
      ],
      "source": [
        "# Doing the Prediction on the Test Data set\n",
        "Y_pred = model.predict(X_test)\n",
        "acc_decision_nb = round(model.score(X_test, y_test) * 100, 2)\n",
        "sk_report = classification_report(\n",
        "    digits=6,\n",
        "    y_true=y_test, \n",
        "    y_pred=Y_pred)\n",
        "print(\"Accuracy\", acc_decision_nb)\n",
        "print(sk_report)\n",
        "pd.crosstab(y_test, Y_pred, rownames=['Actual'], colnames=['Predicted'], margins=True)"
      ]
    },
    {
      "cell_type": "markdown",
      "id": "72448d2c",
      "metadata": {
        "id": "72448d2c"
      },
      "source": [
        "# Confusion Matrix"
      ]
    },
    {
      "cell_type": "code",
      "execution_count": null,
      "id": "0ca7b469",
      "metadata": {
        "id": "0ca7b469",
        "outputId": "2b47c140-e488-492f-e5f9-1ed714acfdf4"
      },
      "outputs": [
        {
          "data": {
            "text/plain": [
              "<AxesSubplot:>"
            ]
          },
          "execution_count": 306,
          "metadata": {},
          "output_type": "execute_result"
        },
        {
          "data": {
            "image/png": "[encoded data removed]",
            "text/plain": [
              "<Figure size 432x288 with 2 Axes>"
            ]
          },
          "metadata": {
            "needs_background": "light"
          },
          "output_type": "display_data"
        }
      ],
      "source": [
        "# Prinitng the Confusion Matrix\n",
        "cm = confusion_matrix(y_test, Y_pred)\n",
        "sns.heatmap(cm, annot=True, fmt=\"d\")"
      ]
    },
    {
      "cell_type": "code",
      "execution_count": null,
      "id": "e9ba01ae",
      "metadata": {
        "id": "e9ba01ae",
        "outputId": "820fd651-08b1-4a7f-cf8a-a75b36ce04e0"
      },
      "outputs": [
        {
          "data": {
            "text/plain": [
              "<matplotlib.legend.Legend at 0x20a3e780af0>"
            ]
          },
          "execution_count": 307,
          "metadata": {},
          "output_type": "execute_result"
        },
        {
          "data": {
            "image/png": "[encoded data removed]",
            "text/plain": [
              "<Figure size 432x288 with 1 Axes>"
            ]
          },
          "metadata": {
            "needs_background": "light"
          },
          "output_type": "display_data"
        }
      ],
      "source": [
        "# Plotting the ROC Curve\n",
        "fpr, tpr, thresholds = roc_curve(y_test,Y_pred)\n",
        "\n",
        "plt.plot(fpr, tpr, label='ROC curve')\n",
        "plt.plot([0, 1], [0, 1], 'k--', label='Random guess')\n",
        "plt.xlabel('False Positive Rate')\n",
        "plt.ylabel('True Positive Rate')\n",
        "plt.title('ROC Curve')\n",
        "plt.xlim([-0.02, 1])\n",
        "plt.ylim([0, 1.02])\n",
        "plt.legend(loc=\"lower right\")"
      ]
    },
    {
      "cell_type": "markdown",
      "id": "195b2ec1",
      "metadata": {
        "id": "195b2ec1"
      },
      "source": [
        "# Artificial Neural Network"
      ]
    },
    {
      "cell_type": "code",
      "execution_count": null,
      "id": "08dd0e92",
      "metadata": {
        "id": "08dd0e92"
      },
      "outputs": [],
      "source": [
        "# Implementing the Artificial Neural Network\n",
        "model = keras.Sequential([\n",
        "    keras.layers.Dense(80, input_shape = (53,), activation = 'relu'),\n",
        "    keras.layers.Dense(70, activation = 'relu'),\n",
        "    keras.layers.Dense(60, activation = 'relu'),\n",
        "    keras.layers.Dense(1, activation = 'sigmoid'),\n",
        "    \n",
        "    \n",
        "    ])\n",
        "\n",
        "model.compile(optimizer = 'adam', loss = 'binary_crossentropy', metrics = ['accuracy'])\n"
      ]
    },
    {
      "cell_type": "code",
      "execution_count": null,
      "id": "fbb1427e",
      "metadata": {
        "id": "fbb1427e",
        "outputId": "73c21c5f-47d6-40c0-e3d3-be9242da6b5a"
      },
      "outputs": [
        {
          "name": "stdout",
          "output_type": "stream",
          "text": [
            "Epoch 1/50\n",
            "146/146 [==============================] - 1s 2ms/step - loss: 0.6092 - accuracy: 0.7097\n",
            "Epoch 2/50\n",
            "146/146 [==============================] - 0s 2ms/step - loss: 0.5908 - accuracy: 0.7187\n",
            "Epoch 3/50\n",
            "146/146 [==============================] - 0s 2ms/step - loss: 0.5845 - accuracy: 0.7210\n",
            "Epoch 4/50\n",
            "146/146 [==============================] - 0s 2ms/step - loss: 0.5818 - accuracy: 0.7215\n",
            "Epoch 5/50\n",
            "146/146 [==============================] - 0s 2ms/step - loss: 0.5807 - accuracy: 0.7210\n",
            "Epoch 6/50\n",
            "146/146 [==============================] - 0s 2ms/step - loss: 0.5769 - accuracy: 0.7204\n",
            "Epoch 7/50\n",
            "146/146 [==============================] - 0s 2ms/step - loss: 0.5705 - accuracy: 0.7230\n",
            "Epoch 8/50\n",
            "146/146 [==============================] - 0s 2ms/step - loss: 0.5656 - accuracy: 0.7249\n",
            "Epoch 9/50\n",
            "146/146 [==============================] - 0s 2ms/step - loss: 0.5613 - accuracy: 0.7290\n",
            "Epoch 10/50\n",
            "146/146 [==============================] - 0s 2ms/step - loss: 0.5584 - accuracy: 0.7296: 0s - loss: 0.5607 - accura\n",
            "Epoch 11/50\n",
            "146/146 [==============================] - 0s 2ms/step - loss: 0.5510 - accuracy: 0.7337\n",
            "Epoch 12/50\n",
            "146/146 [==============================] - 0s 2ms/step - loss: 0.5443 - accuracy: 0.7350\n",
            "Epoch 13/50\n",
            "146/146 [==============================] - 0s 2ms/step - loss: 0.5379 - accuracy: 0.7420\n",
            "Epoch 14/50\n",
            "146/146 [==============================] - 0s 2ms/step - loss: 0.5356 - accuracy: 0.7403\n",
            "Epoch 15/50\n",
            "146/146 [==============================] - 0s 2ms/step - loss: 0.5237 - accuracy: 0.7478\n",
            "Epoch 16/50\n",
            "146/146 [==============================] - 0s 2ms/step - loss: 0.5151 - accuracy: 0.7510\n",
            "Epoch 17/50\n",
            "146/146 [==============================] - 0s 2ms/step - loss: 0.5086 - accuracy: 0.7562\n",
            "Epoch 18/50\n",
            "146/146 [==============================] - 0s 2ms/step - loss: 0.5031 - accuracy: 0.7600\n",
            "Epoch 19/50\n",
            "146/146 [==============================] - 0s 2ms/step - loss: 0.4917 - accuracy: 0.7671\n",
            "Epoch 20/50\n",
            "146/146 [==============================] - 0s 2ms/step - loss: 0.4856 - accuracy: 0.7686\n",
            "Epoch 21/50\n",
            "146/146 [==============================] - 0s 3ms/step - loss: 0.4723 - accuracy: 0.7767\n",
            "Epoch 22/50\n",
            "146/146 [==============================] - 0s 2ms/step - loss: 0.4706 - accuracy: 0.7791\n",
            "Epoch 23/50\n",
            "146/146 [==============================] - 0s 2ms/step - loss: 0.4635 - accuracy: 0.7788\n",
            "Epoch 24/50\n",
            "146/146 [==============================] - 0s 2ms/step - loss: 0.4488 - accuracy: 0.7881\n",
            "Epoch 25/50\n",
            "146/146 [==============================] - 0s 3ms/step - loss: 0.4441 - accuracy: 0.7906: 0s - loss: 0.4458 - accuracy: 0.78\n",
            "Epoch 26/50\n",
            "146/146 [==============================] - 0s 3ms/step - loss: 0.4336 - accuracy: 0.7960\n",
            "Epoch 27/50\n",
            "146/146 [==============================] - 0s 3ms/step - loss: 0.4266 - accuracy: 0.7966\n",
            "Epoch 28/50\n",
            "146/146 [==============================] - 0s 3ms/step - loss: 0.4204 - accuracy: 0.8018\n",
            "Epoch 29/50\n",
            "146/146 [==============================] - 0s 3ms/step - loss: 0.4148 - accuracy: 0.8073\n",
            "Epoch 30/50\n",
            "146/146 [==============================] - 0s 2ms/step - loss: 0.4103 - accuracy: 0.8045\n",
            "Epoch 31/50\n",
            "146/146 [==============================] - 0s 2ms/step - loss: 0.4014 - accuracy: 0.8077\n",
            "Epoch 32/50\n",
            "146/146 [==============================] - 0s 2ms/step - loss: 0.3911 - accuracy: 0.8206\n",
            "Epoch 33/50\n",
            "146/146 [==============================] - 0s 2ms/step - loss: 0.3802 - accuracy: 0.8264\n",
            "Epoch 34/50\n",
            "146/146 [==============================] - ETA: 0s - loss: 0.3752 - accuracy: 0.82 - 0s 3ms/step - loss: 0.3759 - accuracy: 0.8274\n",
            "Epoch 35/50\n",
            "146/146 [==============================] - 0s 3ms/step - loss: 0.3707 - accuracy: 0.8270\n",
            "Epoch 36/50\n",
            "146/146 [==============================] - 0s 3ms/step - loss: 0.3631 - accuracy: 0.8296\n",
            "Epoch 37/50\n",
            "146/146 [==============================] - 0s 2ms/step - loss: 0.3631 - accuracy: 0.8341\n",
            "Epoch 38/50\n",
            "146/146 [==============================] - 0s 3ms/step - loss: 0.3484 - accuracy: 0.8405\n",
            "Epoch 39/50\n",
            "146/146 [==============================] - 0s 3ms/step - loss: 0.3431 - accuracy: 0.8424\n",
            "Epoch 40/50\n",
            "146/146 [==============================] - 0s 3ms/step - loss: 0.3332 - accuracy: 0.8508\n",
            "Epoch 41/50\n",
            "146/146 [==============================] - 0s 3ms/step - loss: 0.3282 - accuracy: 0.8467\n",
            "Epoch 42/50\n",
            "146/146 [==============================] - 0s 3ms/step - loss: 0.3190 - accuracy: 0.8548\n",
            "Epoch 43/50\n",
            "146/146 [==============================] - 0s 3ms/step - loss: 0.3204 - accuracy: 0.8553\n",
            "Epoch 44/50\n",
            "146/146 [==============================] - 0s 3ms/step - loss: 0.3129 - accuracy: 0.8578\n",
            "Epoch 45/50\n",
            "146/146 [==============================] - 0s 3ms/step - loss: 0.3059 - accuracy: 0.8613\n",
            "Epoch 46/50\n",
            "146/146 [==============================] - 0s 2ms/step - loss: 0.3025 - accuracy: 0.8600\n",
            "Epoch 47/50\n",
            "146/146 [==============================] - 0s 2ms/step - loss: 0.3033 - accuracy: 0.8621\n",
            "Epoch 48/50\n",
            "146/146 [==============================] - 0s 2ms/step - loss: 0.2978 - accuracy: 0.8626\n",
            "Epoch 49/50\n",
            "146/146 [==============================] - 0s 2ms/step - loss: 0.2870 - accuracy: 0.8726\n",
            "Epoch 50/50\n",
            "146/146 [==============================] - 0s 2ms/step - loss: 0.2933 - accuracy: 0.8707\n",
            "49/49 [==============================] - 0s 2ms/step - loss: 1.2861 - accuracy: 0.6641\n"
          ]
        },
        {
          "data": {
            "text/plain": [
              "[1.286125659942627, 0.6640976071357727]"
            ]
          },
          "execution_count": 321,
          "metadata": {},
          "output_type": "execute_result"
        }
      ],
      "source": [
        "model.fit(X_train, y_train, epochs = 50)\n",
        "model.evaluate(X_test, y_test)"
      ]
    },
    {
      "cell_type": "code",
      "execution_count": null,
      "id": "f64a5e45",
      "metadata": {
        "id": "f64a5e45",
        "outputId": "35dd9376-ec5e-49b0-a385-f9e0d03b859d"
      },
      "outputs": [
        {
          "name": "stdout",
          "output_type": "stream",
          "text": [
            "[[7.92861465e-06]\n",
            " [1.66058540e-04]\n",
            " [7.06870556e-02]\n",
            " [1.33400695e-11]\n",
            " [1.21752113e-01]]\n",
            "ANN Prediction [0, 0, 0, 0, 0, 0, 1, 0, 0, 0, 0, 0, 0, 0, 0, 0, 0, 0, 0, 0, 1, 1, 0, 0, 0, 1, 0, 0, 0, 0, 1, 0, 1, 0, 0, 0, 0, 0, 0, 0, 1, 0, 0, 0, 0, 1, 0, 0, 0, 0, 0, 0, 0, 0, 0, 0, 0, 1, 0, 0, 0, 1, 0, 0, 0, 0, 0, 1, 0, 0, 0, 1, 0, 0, 1, 1, 1, 0, 0, 0, 0, 1, 0, 1, 1, 0, 0, 1, 1, 0, 0, 0, 0, 0, 1, 0, 0, 0, 0, 0, 0, 0, 0, 0, 0, 0, 0, 0, 0, 0, 1, 0, 0, 0, 0, 0, 0, 1, 0, 0, 1, 0, 0, 0, 0, 0, 0, 0, 0, 1, 0, 0, 0, 1, 0, 0, 1, 0, 1, 0, 0, 0, 0, 0, 1, 1, 0, 0, 0, 0, 0, 0, 0, 1, 0, 0, 1, 0, 0, 0, 0, 1, 0, 0, 0, 0, 1, 0, 0, 0, 0, 0, 0, 0, 1, 0, 0, 0, 0, 0, 0, 0, 1, 0, 0, 1, 0, 0, 1, 0, 1, 0, 0, 0, 0, 0, 0, 1, 0, 0, 0, 0, 0, 0, 0, 1, 1, 0, 1, 1, 0, 0, 0, 0, 0, 0, 0, 0, 0, 0, 0, 0, 1, 0, 0, 0, 0, 0, 0, 0, 0, 0, 1, 0, 1, 0, 0, 1, 0, 0, 1, 1, 0, 0, 0, 0, 0, 0, 0, 1, 0, 0, 0, 0, 0, 0, 0, 0, 0, 1, 0, 0, 0, 0, 1, 0, 0, 0, 0, 0, 0, 0, 1, 0, 1, 0, 0, 0, 0, 0, 0, 0, 1, 1, 0, 0, 1, 1, 0, 0, 0, 0, 0, 1, 1, 1, 0, 0, 0, 0, 0, 1, 0, 0, 0, 0, 0, 0, 0, 0, 0, 0, 0, 0, 1, 0, 0, 1, 0, 1, 0, 0, 0, 0, 0, 0, 0, 1, 1, 1, 0, 1, 0, 0, 0, 1, 0, 0, 1, 0, 1, 0, 1, 0, 0, 0, 0, 1, 1, 0, 0, 0, 0, 0, 1, 0, 0, 1, 0, 0, 0, 0, 1, 0, 0, 0, 1, 0, 0, 0, 0, 0, 0, 0, 0, 0, 0, 0, 1, 1, 0, 0, 1, 1, 0, 0, 0, 0, 0, 0, 0, 0, 0, 0, 1, 0, 0, 0, 0, 0, 0, 0, 0, 0, 0, 0, 0, 0, 0, 0, 1, 0, 1, 0, 0, 0, 0, 1, 0, 0, 0, 0, 0, 0, 0, 1, 0, 0, 0, 0, 1, 0, 0, 0, 0, 0, 0, 0, 0, 0, 0, 0, 0, 0, 0, 0, 0, 1, 0, 0, 0, 0, 0, 0, 1, 0, 0, 0, 0, 1, 1, 0, 1, 0, 0, 0, 0, 0, 0, 0, 0, 0, 0, 1, 0, 0, 0, 0, 0, 0, 0, 0, 0, 0, 0, 0, 0, 0, 1, 0, 0, 0, 0, 0, 1, 0, 1, 0, 0, 0, 0, 1, 0, 0, 0, 0, 0, 0, 1, 0, 0, 0, 0, 0, 0, 1, 1, 0, 0, 0, 0, 0, 0, 0, 0, 0, 0, 0, 1, 0, 0, 0, 0, 0, 1, 0, 0, 0, 0, 0, 0, 0, 1, 0, 0, 0, 0, 0, 0, 0, 0, 1, 0, 1, 1, 0, 1, 0, 0, 0, 0, 1, 0, 1, 0, 1, 0, 0, 1, 0, 0, 0, 1, 0, 0, 0, 0, 1, 0, 0, 0, 0, 0, 0, 0, 0, 1, 0, 0, 0, 0, 1, 0, 0, 0, 0, 1, 0, 0, 0, 0, 0, 1, 0, 0, 0, 0, 0, 0, 0, 0, 1, 0, 0, 0, 0, 0, 0, 1, 0, 0, 0, 0, 0, 0, 0, 0, 0, 0, 1, 0, 0, 0, 1, 0, 0, 0, 0, 1, 0, 0, 1, 0, 0, 1, 0, 0, 0, 0, 0, 1, 0, 0, 0, 0, 0, 0, 0, 0, 0, 1, 0, 0, 1, 1, 1, 0, 0, 1, 1, 1, 0, 1, 0, 0, 0, 0, 0, 0, 0, 0, 0, 0, 0, 0, 0, 0, 0, 0, 0, 0, 0, 0, 0, 0, 0, 0, 0, 1, 1, 0, 1, 0, 0, 0, 0, 0, 0, 1, 0, 0, 0, 0, 0, 0, 0, 0, 0, 0, 0, 0, 0, 0, 1, 0, 0, 0, 0, 0, 0, 0, 0, 0, 0, 1, 1, 0, 0, 0, 0, 0, 0, 0, 0, 0, 1, 0, 0, 0, 0, 0, 0, 0, 0, 0, 0, 0, 0, 0, 1, 0, 1, 0, 1, 0, 1, 0, 0, 1, 0, 1, 0, 0, 0, 0, 0, 1, 1, 0, 0, 0, 0, 1, 1, 0, 0, 0, 0, 0, 0, 0, 0, 0, 0, 0, 0, 0, 1, 0, 0, 0, 0, 0, 0, 0, 1, 0, 0, 0, 0, 0, 0, 0, 0, 0, 0, 0, 0, 0, 0, 0, 1, 1, 0, 0, 0, 0, 0, 0, 0, 0, 1, 0, 1, 1, 0, 0, 1, 0, 0, 0, 0, 0, 1, 0, 1, 0, 0, 0, 0, 0, 0, 1, 0, 0, 0, 0, 0, 0, 0, 0, 0, 0, 0, 0, 1, 0, 0, 0, 0, 0, 0, 0, 0, 0, 1, 1, 0, 0, 0, 0, 0, 0, 0, 0, 0, 1, 0, 0, 0, 0, 0, 0, 0, 0, 0, 0, 0, 0, 0, 1, 1, 0, 0, 0, 0, 0, 0, 0, 0, 0, 0, 0, 0, 1, 0, 0, 0, 0, 1, 0, 0, 0, 0, 0, 0, 0, 0, 0, 1, 0, 0, 0, 0, 1, 0, 1, 0, 1, 0, 0, 0, 1, 1, 0, 0, 0, 0, 1, 1, 0, 0, 0, 0, 0, 0, 0, 0, 1, 1, 0, 0, 0, 0, 0, 0, 0, 0, 0, 0, 0, 0, 0, 0, 0, 0, 0, 1, 0, 0, 0, 0, 0, 1, 1, 0, 0, 1, 0, 0, 1, 0, 0, 0, 0, 1, 0, 1, 0, 0, 0, 1, 0, 0, 0, 0, 0, 0, 1, 1, 0, 0, 0, 0, 1, 0, 0, 0, 0, 0, 0, 0, 0, 0, 0, 0, 1, 1, 0, 1, 1, 0, 0, 0, 0, 0, 0, 0, 0, 0, 1, 0, 0, 1, 0, 0, 0, 1, 0, 0, 1, 0, 0, 1, 0, 0, 0, 0, 0, 0, 0, 0, 1, 1, 0, 0, 0, 0, 0, 0, 0, 0, 0, 0, 0, 1, 0, 0, 1, 0, 0, 0, 0, 0, 0, 0, 1, 0, 1, 0, 1, 0, 0, 0, 0, 0, 1, 1, 0, 0, 0, 0, 0, 1, 0, 0, 0, 0, 0, 0, 0, 0, 0, 0, 0, 0, 0, 0, 0, 0, 0, 1, 0, 0, 0, 0, 0, 0, 0, 0, 0, 0, 0, 0, 0, 0, 0, 0, 0, 0, 0, 0, 0, 0, 0, 0, 0, 1, 0, 1, 0, 1, 0, 0, 0, 0, 0, 0, 0, 1, 1, 0, 0, 0, 0, 0, 0, 0, 0, 1, 0, 0, 1, 0, 0, 1, 0, 1, 0, 1, 0, 1, 0, 0, 0, 0, 0, 0, 0, 0, 0, 0, 1, 1, 1, 1, 1, 0, 0, 0, 0, 0, 0, 0, 1, 1, 0, 0, 1, 0, 1, 0, 0, 0, 0, 0, 0, 1, 0, 0, 0, 0, 0, 1, 0, 0, 1, 0, 0, 1, 0, 0, 0, 0, 1, 0, 0, 0, 1, 0, 0, 0, 0, 0, 1, 0, 0, 0, 0, 1, 0, 1, 0, 0, 0, 0, 0, 0, 0, 0, 0, 1, 0, 0, 0, 0, 0, 0, 0, 0, 1, 0, 0, 1, 0, 0, 0, 0, 1, 1, 0, 0, 0, 0, 1, 0, 0, 0, 0, 0, 0, 0, 0, 0, 0, 0, 0, 0, 0, 1, 0, 0, 0, 1, 0, 0, 0, 0, 0, 0, 0, 0, 0, 1, 0, 0, 0, 0, 1, 0, 0, 0, 0, 1, 0, 0, 0, 0, 0, 0, 0, 0, 0, 0, 1, 0, 0, 0, 1, 1, 0, 0, 0, 0, 0, 0, 0, 0, 0, 0, 0, 0, 0, 1, 0, 0, 0, 0, 0, 1, 0, 0, 0, 0, 1, 0, 0, 0, 0, 0, 1, 0, 0, 1, 0, 1, 0, 0, 0, 0, 0, 0, 0, 0, 0, 1, 1, 0, 0, 0, 0, 0, 0, 0, 0, 0, 0, 0, 0, 0, 1, 0, 0, 0, 0, 1, 0, 1, 0, 0, 0, 0, 0, 0, 0, 0, 0, 0, 0, 0, 0, 0, 0, 1, 0, 0, 0, 1, 0, 1, 0, 0, 1, 0, 0, 1, 0, 0, 1, 0, 0, 0, 1, 0, 0, 0, 0, 0, 1, 0, 0, 0, 0, 0, 0, 0, 0, 0, 0, 0, 0, 0, 0, 0, 0, 0, 0, 0, 0, 0, 0, 0, 0, 0, 0, 0, 0, 0, 0, 1, 0, 0, 0, 0, 1, 0, 1, 0, 0, 0, 0, 0, 0, 1, 1, 0, 0, 0, 0, 0, 0, 0, 0, 0, 1, 1, 0, 0, 0, 0, 0, 0, 0, 0, 0, 1, 0, 0, 0, 0, 0, 0, 0, 0, 0, 0, 0, 0, 0, 0, 0, 0, 0, 0, 0, 0, 0, 0, 0, 0, 0, 0, 0, 0, 1, 0, 1, 0, 0, 0, 0, 0, 0, 0, 0, 0, 1]\n"
          ]
        }
      ],
      "source": [
        "yp = model.predict(X_test)\n",
        "print(yp[:5])\n",
        "Y_pred = []\n",
        "for element in yp:\n",
        "    if element > 0.5:\n",
        "        Y_pred.append(1)\n",
        "    else:\n",
        "        Y_pred.append(0)\n",
        "Y_pred[:10]\n",
        "print(\"ANN Prediction\",Y_pred)"
      ]
    },
    {
      "cell_type": "code",
      "execution_count": null,
      "id": "bf945cf5",
      "metadata": {
        "scrolled": true,
        "id": "bf945cf5",
        "outputId": "9dbb1550-690d-46fd-ab18-ca55fb59ecbf"
      },
      "outputs": [
        {
          "name": "stdout",
          "output_type": "stream",
          "text": [
            "              precision    recall  f1-score   support\n",
            "\n",
            "           0   0.733071  0.834978  0.780713      1115\n",
            "           1   0.358885  0.233032  0.282579       442\n",
            "\n",
            "    accuracy                       0.664098      1557\n",
            "   macro avg   0.545978  0.534005  0.531646      1557\n",
            "weighted avg   0.626847  0.664098  0.639303      1557\n",
            "\n"
          ]
        }
      ],
      "source": [
        "#Printing the Classification Report\n",
        "sk_report = classification_report(\n",
        "    digits=6,\n",
        "    y_true=y_test, \n",
        "    y_pred=Y_pred)\n",
        "print(sk_report)"
      ]
    },
    {
      "cell_type": "code",
      "execution_count": null,
      "id": "7927bc2a",
      "metadata": {
        "id": "7927bc2a",
        "outputId": "2debf783-8d00-4cce-eeff-a4454016aa51"
      },
      "outputs": [
        {
          "data": {
            "text/plain": [
              "<AxesSubplot:>"
            ]
          },
          "execution_count": 325,
          "metadata": {},
          "output_type": "execute_result"
        },
        {
          "data": {
            "image/png": "[encoded data removed]",
            "text/plain": [
              "<Figure size 432x288 with 2 Axes>"
            ]
          },
          "metadata": {
            "needs_background": "light"
          },
          "output_type": "display_data"
        }
      ],
      "source": [
        "cm = confusion_matrix(y_test, Y_pred)\n",
        "sns.heatmap(cm, annot=True, fmt=\"d\")"
      ]
    },
    {
      "cell_type": "code",
      "execution_count": null,
      "id": "2a236f60",
      "metadata": {
        "id": "2a236f60",
        "outputId": "978c0d99-202c-4615-f381-77034b5e501c"
      },
      "outputs": [
        {
          "data": {
            "text/plain": [
              "<matplotlib.legend.Legend at 0x20a3fd7aa90>"
            ]
          },
          "execution_count": 326,
          "metadata": {},
          "output_type": "execute_result"
        },
        {
          "data": {
            "image/png": "[encoded data removed]",
            "text/plain": [
              "<Figure size 432x288 with 1 Axes>"
            ]
          },
          "metadata": {
            "needs_background": "light"
          },
          "output_type": "display_data"
        }
      ],
      "source": [
        "#Plotting the ROC Curve\n",
        "fpr, tpr, thresholds = roc_curve(y_test,Y_pred)\n",
        "\n",
        "plt.plot(fpr, tpr, label='ROC curve')\n",
        "plt.plot([0, 1], [0, 1], 'k--', label='Random guess')\n",
        "plt.xlabel('False Positive Rate')\n",
        "plt.ylabel('True Positive Rate')\n",
        "plt.title('ROC Curve')\n",
        "plt.xlim([-0.02, 1])\n",
        "plt.ylim([0, 1.02])\n",
        "plt.legend(loc=\"lower right\")"
      ]
    },
    {
      "cell_type": "markdown",
      "id": "94146047",
      "metadata": {
        "id": "94146047"
      },
      "source": [
        "# With Feature Selection"
      ]
    },
    {
      "cell_type": "markdown",
      "id": "2f6b9d13",
      "metadata": {
        "id": "2f6b9d13"
      },
      "source": [
        "# Decision Tree Classifier"
      ]
    },
    {
      "cell_type": "code",
      "execution_count": null,
      "id": "f2debcb5",
      "metadata": {
        "id": "f2debcb5"
      },
      "outputs": [],
      "source": [
        "!pip install sklearn-genetic"
      ]
    },
    {
      "cell_type": "code",
      "execution_count": null,
      "id": "3d121a0d",
      "metadata": {
        "id": "3d121a0d"
      },
      "outputs": [],
      "source": [
        "# Here we are doinf the Feature Selection using the Genetic Algorithm i.e Using the Genetic Selection CV\n",
        "from genetic_selection import GeneticSelectionCV"
      ]
    },
    {
      "cell_type": "code",
      "execution_count": null,
      "id": "fef8bb13",
      "metadata": {
        "id": "fef8bb13"
      },
      "outputs": [],
      "source": [
        "estimator = DecisionTreeClassifier(max_depth=2, min_samples_leaf=2)\n",
        "model_fs = GeneticSelectionCV(\n",
        "    estimator, cv=5, verbose=0,\n",
        "    scoring=\"accuracy\", max_features=5,\n",
        "    n_population=100, crossover_proba=0.5,\n",
        "    mutation_proba=0.2, n_generations=50,\n",
        "    crossover_independent_proba=0.5,\n",
        "    mutation_independent_proba=0.04,\n",
        "    tournament_size=3, n_gen_no_change=10,\n",
        "    caching=True, n_jobs=-1)\n"
      ]
    },
    {
      "cell_type": "code",
      "execution_count": null,
      "id": "5bc76ca5",
      "metadata": {
        "id": "5bc76ca5",
        "outputId": "ce1bf45f-f99f-4e84-ca21-dd2abed4d802"
      },
      "outputs": [
        {
          "name": "stdout",
          "output_type": "stream",
          "text": [
            "Features: Index(['MonthlyMinutes', 'UniqueSubs'], dtype='object')\n"
          ]
        }
      ],
      "source": [
        "model_fs = model_fs.fit(X_train, y_train)\n",
        "print('Features:', X.columns[model_fs.support_])"
      ]
    },
    {
      "cell_type": "code",
      "execution_count": null,
      "id": "46f239aa",
      "metadata": {
        "scrolled": true,
        "id": "46f239aa",
        "outputId": "c71505e8-9cf3-41f3-da02-68676992ff78"
      },
      "outputs": [
        {
          "name": "stdout",
          "output_type": "stream",
          "text": [
            "Accuracy 71.55\n",
            "              precision    recall  f1-score   support\n",
            "\n",
            "           0   0.717335  0.994619  0.833521      1115\n",
            "           1   0.454545  0.011312  0.022075       442\n",
            "\n",
            "    accuracy                       0.715478      1557\n",
            "   macro avg   0.585940  0.502966  0.427798      1557\n",
            "weighted avg   0.642735  0.715478  0.603168      1557\n",
            "\n"
          ]
        },
        {
          "name": "stderr",
          "output_type": "stream",
          "text": [
            "C:\\Users\\92303\\Anaconda3\\lib\\site-packages\\sklearn\\base.py:443: UserWarning: X has feature names, but GeneticSelectionCV was fitted without feature names\n",
            "  warnings.warn(\n",
            "C:\\Users\\92303\\Anaconda3\\lib\\site-packages\\sklearn\\base.py:443: UserWarning: X has feature names, but GeneticSelectionCV was fitted without feature names\n",
            "  warnings.warn(\n"
          ]
        },
        {
          "data": {
            "text/html": [
              "<div>\n",
              "<style scoped>\n",
              "    .dataframe tbody tr th:only-of-type {\n",
              "        vertical-align: middle;\n",
              "    }\n",
              "\n",
              "    .dataframe tbody tr th {\n",
              "        vertical-align: top;\n",
              "    }\n",
              "\n",
              "    .dataframe thead th {\n",
              "        text-align: right;\n",
              "    }\n",
              "</style>\n",
              "<table border=\"1\" class=\"dataframe\">\n",
              "  <thead>\n",
              "    <tr style=\"text-align: right;\">\n",
              "      <th>Predicted</th>\n",
              "      <th>0</th>\n",
              "      <th>1</th>\n",
              "      <th>All</th>\n",
              "    </tr>\n",
              "    <tr>\n",
              "      <th>Actual</th>\n",
              "      <th></th>\n",
              "      <th></th>\n",
              "      <th></th>\n",
              "    </tr>\n",
              "  </thead>\n",
              "  <tbody>\n",
              "    <tr>\n",
              "      <th>0</th>\n",
              "      <td>1109</td>\n",
              "      <td>6</td>\n",
              "      <td>1115</td>\n",
              "    </tr>\n",
              "    <tr>\n",
              "      <th>1</th>\n",
              "      <td>437</td>\n",
              "      <td>5</td>\n",
              "      <td>442</td>\n",
              "    </tr>\n",
              "    <tr>\n",
              "      <th>All</th>\n",
              "      <td>1546</td>\n",
              "      <td>11</td>\n",
              "      <td>1557</td>\n",
              "    </tr>\n",
              "  </tbody>\n",
              "</table>\n",
              "</div>"
            ],
            "text/plain": [
              "Predicted     0   1   All\n",
              "Actual                   \n",
              "0          1109   6  1115\n",
              "1           437   5   442\n",
              "All        1546  11  1557"
            ]
          },
          "execution_count": 338,
          "metadata": {},
          "output_type": "execute_result"
        }
      ],
      "source": [
        "Y_pred = model_fs.predict(X_test)\n",
        "acc_decision_tree_fs = round(model_fs.score(X_test, y_test) * 100, 2)\n",
        "sk_report = classification_report(\n",
        "    digits=6,\n",
        "    y_true=y_test, \n",
        "    y_pred=Y_pred)\n",
        "print(\"Accuracy\", acc_decision_tree_fs)\n",
        "print(sk_report)\n",
        "pd.crosstab(y_test, Y_pred, rownames=['Actual'], colnames=['Predicted'], margins=True)"
      ]
    },
    {
      "cell_type": "code",
      "execution_count": null,
      "id": "82f9464c",
      "metadata": {
        "id": "82f9464c",
        "outputId": "dbe92ffa-482b-4c75-bbb5-a4cc5a3c5912"
      },
      "outputs": [
        {
          "data": {
            "text/plain": [
              "<AxesSubplot:>"
            ]
          },
          "execution_count": 339,
          "metadata": {},
          "output_type": "execute_result"
        },
        {
          "data": {
            "image/png": "[encoded data removed]",
            "text/plain": [
              "<Figure size 432x288 with 2 Axes>"
            ]
          },
          "metadata": {
            "needs_background": "light"
          },
          "output_type": "display_data"
        }
      ],
      "source": [
        "cm = confusion_matrix(y_test, Y_pred)\n",
        "sns.heatmap(cm, annot=True, fmt=\"d\")"
      ]
    },
    {
      "cell_type": "code",
      "execution_count": null,
      "id": "8e7fed0a",
      "metadata": {
        "id": "8e7fed0a",
        "outputId": "2db2cad1-6ac3-4df5-ca37-e82861002d15"
      },
      "outputs": [
        {
          "data": {
            "text/plain": [
              "<matplotlib.legend.Legend at 0x20a40230760>"
            ]
          },
          "execution_count": 340,
          "metadata": {},
          "output_type": "execute_result"
        },
        {
          "data": {
            "image/png": "[encoded data removed]",
            "text/plain": [
              "<Figure size 432x288 with 1 Axes>"
            ]
          },
          "metadata": {
            "needs_background": "light"
          },
          "output_type": "display_data"
        }
      ],
      "source": [
        "# Plotting the ROC Curve\n",
        "fpr, tpr, thresholds = roc_curve(y_test,Y_pred)\n",
        "\n",
        "plt.plot(fpr, tpr, label='ROC curve')\n",
        "plt.plot([0, 1], [0, 1], 'k--', label='Random guess')\n",
        "plt.xlabel('False Positive Rate')\n",
        "plt.ylabel('True Positive Rate')\n",
        "plt.title('ROC Curve')\n",
        "plt.xlim([-0.02, 1])\n",
        "plt.ylim([0, 1.02])\n",
        "plt.legend(loc=\"lower right\")"
      ]
    },
    {
      "cell_type": "markdown",
      "id": "d9f48296",
      "metadata": {
        "id": "d9f48296"
      },
      "source": [
        "# Naive Bayes Classifier"
      ]
    },
    {
      "cell_type": "code",
      "execution_count": null,
      "id": "cd9b52e9",
      "metadata": {
        "id": "cd9b52e9"
      },
      "outputs": [],
      "source": [
        "# Implementing Feature Selection using Genetic Algorithms i.e Using Genetic Selection, on Naive Bayes Classifier\n",
        "estimator = GaussianNB(var_smoothing =  0.12)\n",
        "model_fs_NB = GeneticSelectionCV(\n",
        "    estimator, cv=5, verbose=0,\n",
        "    scoring=\"accuracy\", max_features=5,\n",
        "    n_population=100, crossover_proba=0.5,\n",
        "    mutation_proba=0.2, n_generations=50,\n",
        "    crossover_independent_proba=0.5,\n",
        "    mutation_independent_proba=0.04,\n",
        "    tournament_size=3, n_gen_no_change=10,\n",
        "    caching=True, n_jobs=-1)\n"
      ]
    },
    {
      "cell_type": "code",
      "execution_count": null,
      "id": "754ce762",
      "metadata": {
        "id": "754ce762",
        "outputId": "f73b4938-ab29-44e1-e623-1f81d7494326"
      },
      "outputs": [
        {
          "name": "stdout",
          "output_type": "stream",
          "text": [
            "Features: Index(['MonthlyMinutes', 'UniqueSubs'], dtype='object')\n"
          ]
        }
      ],
      "source": [
        "model_fs_NB = model_fs_NB.fit(X_train, y_train)\n",
        "print('Features:', X.columns[model_fs.support_])"
      ]
    },
    {
      "cell_type": "code",
      "execution_count": null,
      "id": "8a80b062",
      "metadata": {
        "id": "8a80b062",
        "outputId": "7b0ce23e-7ffe-42bb-c84c-b8514ffa3a2b"
      },
      "outputs": [
        {
          "name": "stdout",
          "output_type": "stream",
          "text": [
            "Accuracy 71.48\n",
            "              precision    recall  f1-score   support\n",
            "\n",
            "           0   0.718567  0.989238  0.832453      1115\n",
            "           1   0.454545  0.022624  0.043103       442\n",
            "\n",
            "    accuracy                       0.714836      1557\n",
            "   macro avg   0.586556  0.505931  0.437778      1557\n",
            "weighted avg   0.643617  0.714836  0.608373      1557\n",
            "\n"
          ]
        },
        {
          "name": "stderr",
          "output_type": "stream",
          "text": [
            "C:\\Users\\92303\\Anaconda3\\lib\\site-packages\\sklearn\\base.py:443: UserWarning: X has feature names, but GeneticSelectionCV was fitted without feature names\n",
            "  warnings.warn(\n",
            "C:\\Users\\92303\\Anaconda3\\lib\\site-packages\\sklearn\\base.py:443: UserWarning: X has feature names, but GeneticSelectionCV was fitted without feature names\n",
            "  warnings.warn(\n"
          ]
        },
        {
          "data": {
            "text/html": [
              "<div>\n",
              "<style scoped>\n",
              "    .dataframe tbody tr th:only-of-type {\n",
              "        vertical-align: middle;\n",
              "    }\n",
              "\n",
              "    .dataframe tbody tr th {\n",
              "        vertical-align: top;\n",
              "    }\n",
              "\n",
              "    .dataframe thead th {\n",
              "        text-align: right;\n",
              "    }\n",
              "</style>\n",
              "<table border=\"1\" class=\"dataframe\">\n",
              "  <thead>\n",
              "    <tr style=\"text-align: right;\">\n",
              "      <th>Predicted</th>\n",
              "      <th>0</th>\n",
              "      <th>1</th>\n",
              "      <th>All</th>\n",
              "    </tr>\n",
              "    <tr>\n",
              "      <th>Actual</th>\n",
              "      <th></th>\n",
              "      <th></th>\n",
              "      <th></th>\n",
              "    </tr>\n",
              "  </thead>\n",
              "  <tbody>\n",
              "    <tr>\n",
              "      <th>0</th>\n",
              "      <td>1103</td>\n",
              "      <td>12</td>\n",
              "      <td>1115</td>\n",
              "    </tr>\n",
              "    <tr>\n",
              "      <th>1</th>\n",
              "      <td>432</td>\n",
              "      <td>10</td>\n",
              "      <td>442</td>\n",
              "    </tr>\n",
              "    <tr>\n",
              "      <th>All</th>\n",
              "      <td>1535</td>\n",
              "      <td>22</td>\n",
              "      <td>1557</td>\n",
              "    </tr>\n",
              "  </tbody>\n",
              "</table>\n",
              "</div>"
            ],
            "text/plain": [
              "Predicted     0   1   All\n",
              "Actual                   \n",
              "0          1103  12  1115\n",
              "1           432  10   442\n",
              "All        1535  22  1557"
            ]
          },
          "execution_count": 343,
          "metadata": {},
          "output_type": "execute_result"
        }
      ],
      "source": [
        "Y_pred = model_fs_NB.predict(X_test)\n",
        "acc_NB_fs = round(model_fs_NB.score(X_test, y_test) * 100, 2)\n",
        "sk_report = classification_report(\n",
        "    digits=6,\n",
        "    y_true=y_test, \n",
        "    y_pred=Y_pred)\n",
        "print(\"Accuracy\", acc_NB_fs)\n",
        "print(sk_report)\n",
        "pd.crosstab(y_test, Y_pred, rownames=['Actual'], colnames=['Predicted'], margins=True)"
      ]
    },
    {
      "cell_type": "code",
      "execution_count": null,
      "id": "dfeeadcd",
      "metadata": {
        "id": "dfeeadcd",
        "outputId": "ee4d621f-9eed-43d6-bbc7-cdddfbac9f10"
      },
      "outputs": [
        {
          "data": {
            "text/plain": [
              "<AxesSubplot:>"
            ]
          },
          "execution_count": 344,
          "metadata": {},
          "output_type": "execute_result"
        },
        {
          "data": {
            "image/png": "[encoded data removed]",
            "text/plain": [
              "<Figure size 432x288 with 2 Axes>"
            ]
          },
          "metadata": {
            "needs_background": "light"
          },
          "output_type": "display_data"
        }
      ],
      "source": [
        "cm = confusion_matrix(y_test, Y_pred)\n",
        "sns.heatmap(cm, annot=True, fmt=\"d\")"
      ]
    },
    {
      "cell_type": "code",
      "execution_count": null,
      "id": "139e825f",
      "metadata": {
        "id": "139e825f",
        "outputId": "68145034-af6b-497d-b9de-5dc78c5a4adb"
      },
      "outputs": [
        {
          "data": {
            "text/plain": [
              "<matplotlib.legend.Legend at 0x20a3ff129a0>"
            ]
          },
          "execution_count": 345,
          "metadata": {},
          "output_type": "execute_result"
        },
        {
          "data": {
            "image/png": "[encoded data removed]",
            "text/plain": [
              "<Figure size 432x288 with 1 Axes>"
            ]
          },
          "metadata": {
            "needs_background": "light"
          },
          "output_type": "display_data"
        }
      ],
      "source": [
        "fpr, tpr, thresholds = roc_curve(y_test,Y_pred)\n",
        "\n",
        "plt.plot(fpr, tpr, label='ROC curve')\n",
        "plt.plot([0, 1], [0, 1], 'k--', label='Random guess')\n",
        "plt.xlabel('False Positive Rate')\n",
        "plt.ylabel('True Positive Rate')\n",
        "plt.title('ROC Curve')\n",
        "plt.xlim([-0.02, 1])\n",
        "plt.ylim([0, 1.02])\n",
        "plt.legend(loc=\"lower right\")"
      ]
    },
    {
      "cell_type": "markdown",
      "id": "4b826b0a",
      "metadata": {
        "id": "4b826b0a"
      },
      "source": [
        "# Support Vector Machine "
      ]
    },
    {
      "cell_type": "code",
      "execution_count": null,
      "id": "a3fe3d1a",
      "metadata": {
        "id": "a3fe3d1a"
      },
      "outputs": [],
      "source": [
        "# Selecting the Optimal Number of Features using Genetic Algorithm for Support Vector Machine Classifier\n",
        "estimator = SVC()\n"
      ]
    },
    {
      "cell_type": "code",
      "execution_count": null,
      "id": "26f2a62f",
      "metadata": {
        "id": "26f2a62f"
      },
      "outputs": [],
      "source": [
        "model_fs_SVM = GeneticSelectionCV(\n",
        "    estimator, cv=5, verbose=0,\n",
        "    scoring=\"accuracy\", max_features=5,\n",
        "    n_population=100, crossover_proba=0.5,\n",
        "    mutation_proba=0.2, n_generations=50,\n",
        "    crossover_independent_proba=0.5,\n",
        "    mutation_independent_proba=0.04,\n",
        "    tournament_size=3, n_gen_no_change=10,\n",
        "    caching=True, n_jobs=-1)"
      ]
    },
    {
      "cell_type": "code",
      "execution_count": null,
      "id": "ea68ca3a",
      "metadata": {
        "id": "ea68ca3a"
      },
      "outputs": [],
      "source": [
        "model_fs_SVM = model_fs_SVM.fit(X_train, y_train)"
      ]
    },
    {
      "cell_type": "code",
      "execution_count": null,
      "id": "d1f742a5",
      "metadata": {
        "id": "d1f742a5"
      },
      "outputs": [],
      "source": [
        "Y_pred = model_fs_SVM.predict(X_test)\n",
        "acc_SVM_fs = round(model_fs_SVM.score(X_test, y_test) * 100, 2)\n",
        "sk_report = classification_report(\n",
        "    digits=6,\n",
        "    y_true=y_test, \n",
        "    y_pred=Y_pred)\n",
        "print(\"Accuracy\", acc_SVM_fs)\n",
        "print(sk_report)"
      ]
    },
    {
      "cell_type": "code",
      "execution_count": null,
      "id": "2e53082d",
      "metadata": {
        "id": "2e53082d"
      },
      "outputs": [],
      "source": [
        "cm = confusion_matrix(y_test, Y_pred)\n",
        "sns.heatmap(cm, annot=True, fmt=\"d\")"
      ]
    },
    {
      "cell_type": "code",
      "execution_count": null,
      "id": "42697956",
      "metadata": {
        "id": "42697956"
      },
      "outputs": [],
      "source": [
        "fpr, tpr, thresholds = roc_curve(y_test,Y_pred)\n",
        "\n",
        "plt.plot(fpr, tpr, label='ROC curve')\n",
        "plt.plot([0, 1], [0, 1], 'k--', label='Random guess')\n",
        "plt.xlabel('False Positive Rate')\n",
        "plt.ylabel('True Positive Rate')\n",
        "plt.title('ROC Curve')\n",
        "plt.xlim([-0.02, 1])\n",
        "plt.ylim([0, 1.02])\n",
        "plt.legend(loc=\"lower right\")"
      ]
    },
    {
      "cell_type": "code",
      "execution_count": null,
      "id": "17fbbea8",
      "metadata": {
        "id": "17fbbea8"
      },
      "outputs": [],
      "source": [
        ""
      ]
    },
    {
      "cell_type": "code",
      "execution_count": null,
      "id": "5843b39f",
      "metadata": {
        "id": "5843b39f"
      },
      "outputs": [],
      "source": [
        ""
      ]
    },
    {
      "cell_type": "code",
      "execution_count": null,
      "id": "43497ba8",
      "metadata": {
        "id": "43497ba8"
      },
      "outputs": [],
      "source": [
        ""
      ]
    },
    {
      "cell_type": "code",
      "execution_count": null,
      "id": "39400a95",
      "metadata": {
        "id": "39400a95"
      },
      "outputs": [],
      "source": [
        ""
      ]
    },
    {
      "cell_type": "code",
      "execution_count": null,
      "id": "d4bf0c5d",
      "metadata": {
        "id": "d4bf0c5d"
      },
      "outputs": [],
      "source": [
        ""
      ]
    },
    {
      "cell_type": "code",
      "execution_count": null,
      "id": "5a4cddfd",
      "metadata": {
        "id": "5a4cddfd"
      },
      "outputs": [],
      "source": [
        ""
      ]
    }
  ],
  "metadata": {
    "kernelspec": {
      "display_name": "Python 3",
      "language": "python",
      "name": "python3"
    },
    "language_info": {
      "codemirror_mode": {
        "name": "ipython",
        "version": 3
      },
      "file_extension": ".py",
      "mimetype": "text/x-python",
      "name": "python",
      "nbconvert_exporter": "python",
      "pygments_lexer": "ipython3",
      "version": "3.8.8"
    },
    "colab": {
      "name": "Chustomer_Churn_Code.ipynb",
      "provenance": [],
      "collapsed_sections": [
        "94146047"
      ]
    }
  },
  "nbformat": 4,
  "nbformat_minor": 5
}